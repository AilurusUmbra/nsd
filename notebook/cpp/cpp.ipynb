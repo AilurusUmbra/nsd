{
 "cells": [
  {
   "cell_type": "code",
   "execution_count": null,
   "metadata": {
    "slideshow": {
     "slide_type": "skip"
    }
   },
   "outputs": [],
   "source": [
    "%matplotlib inline\n",
    "%env CPATH /System/Library/Frameworks/Accelerate.framework/Frameworks/vecLib.framework/Headers\n",
    "\n",
    "import traceback\n",
    "import sys\n",
    "import os\n",
    "\n",
    "import numpy as np\n",
    "import matplotlib.pyplot as plt\n",
    "from IPython.core.magic import register_cell_magic\n",
    "from IPython.display import display, Audio, Image"
   ]
  },
  {
   "cell_type": "markdown",
   "metadata": {
    "slideshow": {
     "slide_type": "slide"
    }
   },
   "source": [
    "# C++ and computer architecture\n",
    "\n",
    "C++ is for performance.  This lecture includes the fundamental knowledge for writing efficient code for numerical applications.\n",
    "\n",
    "1. Fundamental data types\n",
    "2. Object-oriented programming\n",
    "3. Standard template library (STL)"
   ]
  },
  {
   "cell_type": "markdown",
   "metadata": {
    "slideshow": {
     "slide_type": "subslide"
    }
   },
   "source": [
    "## Why C++?\n",
    "\n",
    "C++ is particularly difficult to learn and use.  If all we need is speed, why not invent an easier language that is equally fast?\n",
    "\n",
    "Two reasons render the new-language approach incomplete.  Speed is first.  It's just difficult to invent something that is as fast as C++ in all aspects.  C++ is compatible to the language of operating system and accesses assembly easily.  Other languages may outperform C++ in some occasions, but not most.\n",
    "\n",
    "Another reason is maintenance.  A numerical system usually takes years to develop.  When proven useful, it will be maintained for decades.  Such a long-living system needs a lot of support from the compiler, which is offered by C++."
   ]
  },
  {
   "cell_type": "markdown",
   "metadata": {
    "slideshow": {
     "slide_type": "slide"
    }
   },
   "source": [
    "# Fundamental data types\n",
    "\n",
    "1. Use command-line tools: compiler, linker, header files, external libraries, shared objects\n",
    "2. Integer: signness, pointer, array indexing\n",
    "3. Floating-point: format, rounding, exception handling"
   ]
  },
  {
   "cell_type": "markdown",
   "metadata": {
    "slideshow": {
     "slide_type": "slide"
    }
   },
   "source": [
    "# Compile and link"
   ]
  },
  {
   "cell_type": "code",
   "execution_count": null,
   "metadata": {
    "slideshow": {
     "slide_type": "notes"
    }
   },
   "outputs": [],
   "source": [
    "!rm -f helloworld.o\n",
    "!ls helloworld.o"
   ]
  },
  {
   "cell_type": "markdown",
   "metadata": {
    "slideshow": {
     "slide_type": "notes"
    }
   },
   "source": [
    "Compiler is a complex system.  The most common way to use it is to execute the compiler driver from the command-line.  For example, in GCC, the C++ compiler driver is `g++`.  It accepts a lot of command-line arguments.\n",
    "\n",
    "When running the compiler with the argument `-c`, it takes the source code and output the object file.  The object file contains the machine code, but doesn't include the functions not defined in the source file.\n",
    "\n",
    "The argument `-o` is used to specify the output file name."
   ]
  },
  {
   "cell_type": "code",
   "execution_count": null,
   "metadata": {
    "slideshow": {
     "slide_type": "-"
    }
   },
   "outputs": [],
   "source": [
    "# Compile source file to object file\n",
    "!g++ -c helloworld.cpp -o helloworld.o\n",
    "!file helloworld.o"
   ]
  },
  {
   "cell_type": "code",
   "execution_count": null,
   "metadata": {},
   "outputs": [],
   "source": [
    "# Object file isn't executable yet\n",
    "!chmod a+x helloworld.o\n",
    "!./helloworld.o"
   ]
  },
  {
   "cell_type": "markdown",
   "metadata": {
    "slideshow": {
     "slide_type": "notes"
    }
   },
   "source": [
    "By dropping the `-c` argument, and supplying the object file as the input, `g++` will link the object file and necessary libraries into the executable."
   ]
  },
  {
   "cell_type": "code",
   "execution_count": null,
   "metadata": {},
   "outputs": [],
   "source": [
    "# Link into executable; dropping -c\n",
    "!g++ helloworld.o -o helloworld\n",
    "!file helloworld"
   ]
  },
  {
   "cell_type": "code",
   "execution_count": null,
   "metadata": {},
   "outputs": [],
   "source": [
    "!./helloworld"
   ]
  },
  {
   "cell_type": "markdown",
   "metadata": {
    "slideshow": {
     "slide_type": "subslide"
    }
   },
   "source": [
    "## Separate compilation units\n",
    "\n",
    "#### Header file\n",
    "\n",
    "`hello.hpp`:\n",
    "\n",
    "```cpp\n",
    "#pragma once\n",
    "void hello();\n",
    "```\n",
    "\n",
    "`hello.cpp`:\n",
    "\n",
    "```cpp\n",
    "#include <iostream>\n",
    "#include \"hello.hpp\"\n",
    "void hello() { std::cout << \"hello with standalone compiling unit\" << std::endl; }\n",
    "```"
   ]
  },
  {
   "cell_type": "code",
   "execution_count": null,
   "metadata": {
    "slideshow": {
     "slide_type": "subslide"
    }
   },
   "outputs": [],
   "source": [
    "# There's no \"main()\"; cannot link\n",
    "!g++ hello.cpp -o hello"
   ]
  },
  {
   "cell_type": "code",
   "execution_count": null,
   "metadata": {},
   "outputs": [],
   "source": [
    "# hello.cpp needs to be built as an object file\n",
    "!g++ -c hello.cpp -o hello.o"
   ]
  },
  {
   "cell_type": "markdown",
   "metadata": {
    "slideshow": {
     "slide_type": "subslide"
    }
   },
   "source": [
    "### Main program\n",
    "\n",
    "`hellomain.hpp`:\n",
    "\n",
    "```cpp\n",
    "#include \"hello.hpp\"\n",
    "int main(int argc, char ** argv) { hello(); }\n",
    "```"
   ]
  },
  {
   "cell_type": "code",
   "execution_count": null,
   "metadata": {},
   "outputs": [],
   "source": [
    "# hellomain.cpp doesn't have everything it needs; cannot link\n",
    "!g++ hellomain.cpp -o hellomain"
   ]
  },
  {
   "cell_type": "markdown",
   "metadata": {
    "slideshow": {
     "slide_type": "subslide"
    }
   },
   "source": [
    "### Link object files"
   ]
  },
  {
   "cell_type": "code",
   "execution_count": null,
   "metadata": {},
   "outputs": [],
   "source": [
    "# hellomain.cpp also needs to be built as an object file\n",
    "!g++ -c hellomain.cpp -o hellomain.o"
   ]
  },
  {
   "cell_type": "code",
   "execution_count": null,
   "metadata": {},
   "outputs": [],
   "source": [
    "# Link into executable\n",
    "!g++ hellomain.o hello.o -o hellomain"
   ]
  },
  {
   "cell_type": "code",
   "execution_count": null,
   "metadata": {},
   "outputs": [],
   "source": [
    "# Then it can run\n",
    "!./hellomain"
   ]
  },
  {
   "cell_type": "markdown",
   "metadata": {
    "slideshow": {
     "slide_type": "subslide"
    }
   },
   "source": [
    "## Create and use a static library"
   ]
  },
  {
   "cell_type": "code",
   "execution_count": null,
   "metadata": {
    "slideshow": {
     "slide_type": "-"
    }
   },
   "outputs": [],
   "source": [
    "!g++ -c hello.cpp -o hello.o\n",
    "!ar rcs libhello.a hello.o\n",
    "!g++ hellomain.o -L. -lhello -o hellomain2\n",
    "!./hellomain2"
   ]
  },
  {
   "cell_type": "markdown",
   "metadata": {
    "slideshow": {
     "slide_type": "subslide"
    }
   },
   "source": [
    "## Create and use a shared object"
   ]
  },
  {
   "cell_type": "code",
   "execution_count": null,
   "metadata": {
    "slideshow": {
     "slide_type": "-"
    }
   },
   "outputs": [],
   "source": [
    "!g++ -c hello.cpp -o hello.o\n",
    "!g++ -shared hello.o -o libshared_hello.so\n",
    "!g++ hellomain.o -L. -lshared_hello -o hellomain3\n",
    "!./hellomain3"
   ]
  },
  {
   "cell_type": "markdown",
   "metadata": {},
   "source": [
    "### External libraries are included in the same way"
   ]
  },
  {
   "cell_type": "code",
   "execution_count": null,
   "metadata": {},
   "outputs": [],
   "source": [
    "!g++ distance.cpp -o distance -lcblas\n",
    "!./distance"
   ]
  },
  {
   "cell_type": "markdown",
   "metadata": {
    "slideshow": {
     "slide_type": "slide"
    }
   },
   "source": [
    "# C++ integer types\n",
    "\n",
    "Width of the fundamental types is specified by the standard to assist writing portable code.\n",
    "\n",
    "* Boolean types: `bool`\n",
    "* Integer (signed) types: `short` (16+ bits), `int` (16+ bits), `long` (32+ bits), `long long` (64+ bits)\n",
    "  * Unsigned integer: `unsigned short` (16+ bits), `unsigned int` (16+ bits), `unsigned long` (32+ bits), `unsigned long long` (64+ bits)\n",
    "* Character type: `char`, `unsigned char` (8 bits)"
   ]
  },
  {
   "cell_type": "code",
   "execution_count": null,
   "metadata": {
    "slideshow": {
     "slide_type": "notes"
    }
   },
   "outputs": [],
   "source": [
    "!g++ types.cpp -o types\n",
    "!./types"
   ]
  },
  {
   "cell_type": "markdown",
   "metadata": {
    "slideshow": {
     "slide_type": "subslide"
    }
   },
   "source": [
    "## Fixed-width integer types\n",
    "\n",
    "The C++ standard library provides the fixed-width (bit) integer types which are the same as C in the header file `<cstdint>`:\n",
    "\n",
    "* Signed integer: `int8_t`, `int16_t`, `int32_t`, `int64_t`.\n",
    "* Unsigned integer: `uint8_t`, `uint16_t`, `uint32_t`, `uint64_t`.\n",
    "\n",
    "Fixed width matters for numerical code more than hardware architecture does.  It's easier for numerical code to break by changed width of indexing integer than by changed addressing space."
   ]
  },
  {
   "cell_type": "markdown",
   "metadata": {
    "slideshow": {
     "slide_type": "notes"
    }
   },
   "source": [
    "`cstdint.cpp`:\n",
    "\n",
    "```cpp\n",
    "#include <iostream>\n",
    "#include <cstdint>\n",
    "int main(int argc, char ** argv)\n",
    "{\n",
    "    std::cout << \"unit is byte\" << std::endl;\n",
    "    std::cout << \"sizeof(int8_t): \" << sizeof(int8_t) << std::endl;\n",
    "    std::cout << \"sizeof(uint8_t): \" << sizeof(uint8_t) << std::endl;\n",
    "    std::cout << \"sizeof(int16_t): \" << sizeof(int16_t) << std::endl;\n",
    "    std::cout << \"sizeof(uint16_t): \" << sizeof(uint16_t) << std::endl;\n",
    "    std::cout << \"sizeof(int32_t): \" << sizeof(int32_t) << std::endl;\n",
    "    std::cout << \"sizeof(uint32_t): \" << sizeof(uint32_t) << std::endl;\n",
    "    std::cout << \"sizeof(int64_t): \" << sizeof(int64_t) << std::endl;\n",
    "    std::cout << \"sizeof(uint64_t): \" << sizeof(uint64_t) << std::endl;\n",
    "    return -1;\n",
    "}```"
   ]
  },
  {
   "cell_type": "code",
   "execution_count": null,
   "metadata": {
    "slideshow": {
     "slide_type": "notes"
    }
   },
   "outputs": [],
   "source": [
    "!g++ cstdint.cpp -o cstdint\n",
    "!./cstdint"
   ]
  },
  {
   "cell_type": "markdown",
   "metadata": {
    "slideshow": {
     "slide_type": "subslide"
    }
   },
   "source": [
    "## Signness\n",
    "\n",
    "Care should be taken when signed and unsigned integers are both used in code.  Comparison result between signed and unsigned integers is sometimes surprising.\n",
    "\n",
    "The common wisdom advises to not mixing signed and unsigned integer, but in numerical code negative indices are commonplace.  Be especially careful about the sign."
   ]
  },
  {
   "cell_type": "markdown",
   "metadata": {
    "slideshow": {
     "slide_type": "notes"
    }
   },
   "source": [
    "`signness.cpp`:\n",
    "    \n",
    "```cpp\n",
    "#include <iostream>\n",
    "#include <cstdint>\n",
    "int main(int, char **)\n",
    "{\n",
    "    long sint = -1;\n",
    "    unsigned long uint = 1;\n",
    "    std::cout << \"sint: \" << sint << std::endl;\n",
    "    std::cout << \"uint: \" << uint << std::endl;\n",
    "    if (sint > uint) { std::cout << \"sint > uint, although it can't be\" << std::endl; }\n",
    "    return -1;\n",
    "}```"
   ]
  },
  {
   "cell_type": "code",
   "execution_count": null,
   "metadata": {},
   "outputs": [],
   "source": [
    "!g++ signness.cpp -o signness\n",
    "!./signness"
   ]
  },
  {
   "cell_type": "code",
   "execution_count": null,
   "metadata": {},
   "outputs": [],
   "source": [
    "!g++ signness.cpp -Wsign-compare -Werror -o signness"
   ]
  },
  {
   "cell_type": "markdown",
   "metadata": {
    "slideshow": {
     "slide_type": "subslide"
    }
   },
   "source": [
    "## Pointer and array indexing"
   ]
  },
  {
   "cell_type": "markdown",
   "metadata": {
    "slideshow": {
     "slide_type": "notes"
    }
   },
   "source": [
    "`arrays.cpp`:\n",
    "\n",
    "```cpp\n",
    "#include <iostream>\n",
    "#include <cstdint>\n",
    "int main(int, char **)\n",
    "{\n",
    "    int32_t data[100];\n",
    "    int32_t * pdata = data;\n",
    "    int32_t * odata = pdata + 50;\n",
    "    for (size_t it=0; it<100; ++it) { data[it] = it + 5000; }\n",
    "    std::cout << \"data[10]: \" << data[10] << std::endl;\n",
    "    std::cout << \"pdata[10]: \" << pdata[10] << std::endl;\n",
    "    std::cout << \"*(data+20): \" << *(data+20) << std::endl;\n",
    "    std::cout << \"*(pdata+20): \" << *(pdata+20) << std::endl;\n",
    "    std::cout << \"data[50]: \" << data[50] << std::endl;\n",
    "    std::cout << \"odata[0]: \" << odata[0] << std::endl;\n",
    "    std::cout << \"data[40]: \" << data[40] << std::endl;\n",
    "    std::cout << \"odata[-10]: \" << odata[-10] << std::endl;\n",
    "    std::cout << \"*(data+40): \" << *(data+40) << std::endl;\n",
    "    std::cout << \"*(odata-10): \" << *(odata-10) << std::endl;\n",
    "    return -1;\n",
    "}```"
   ]
  },
  {
   "cell_type": "code",
   "execution_count": null,
   "metadata": {},
   "outputs": [],
   "source": [
    "!g++ arrays.cpp -o arrays -Wall -Wextra -Werror\n",
    "!./arrays"
   ]
  },
  {
   "cell_type": "markdown",
   "metadata": {
    "slideshow": {
     "slide_type": "slide"
    }
   },
   "source": [
    "# Floating-point\n",
    "\n",
    "x86 architecture follows the IEEE 754-1985 standard for floating-point.  A floating-point value uses 3 fields to represent: sign, exponent (biased) (denoted by $p$), and fraction (denoted by $f$ and $f<1$).  The formula is:\n",
    "\n",
    "$$\n",
    "(1+f)_2 \\times 2^p\n",
    "$$\n",
    "\n",
    "Note that the number is binary-based.\n",
    "\n",
    "x86 follows IEEE 754 standard for floating-point.  There are two commonly used floating-point formats: single and double precision.  The C++ type names are `float` and `double`, respectively."
   ]
  },
  {
   "cell_type": "markdown",
   "metadata": {
    "slideshow": {
     "slide_type": "subslide"
    }
   },
   "source": [
    "## Single-precision (`float`)\n",
    "\n",
    "Single-precision floating-point value uses 32 bits (4 bytes).  The first 23 bits are fraction.  The following 8 bits are exponent.  The last (highest) bit is sign; 0 is positive while 1 is negative.  In C++, the type name is `float`.\n",
    "\n",
    "Conisder a decimal number 2.75, which we use as an example to show how the get the fields.  Write it by using the base of 2:\n",
    "\n",
    "\\begin{align*}\n",
    "%\n",
    "2.75 &= 2 + \\frac{1}{2} + \\frac{1}{2^2} = 1\\times2^1 + 0\\times2^0 + 1\\times2^{-1} + 1\\times2^{-2} \\\\\n",
    "&= (10.11)_2 = (1.011)_2 \\times 2^1 .\n",
    "%\n",
    "\\end{align*}\n",
    "\n",
    "The bit fields for its IEEE 754 single-precision floating-point are:\n",
    "\n",
    "| sign (1 bit)   | exponent (8 bits)    | fraction (23 bits)             |\n",
    "|----------------|----------------------|--------------------------------|\n",
    "| `0`            | `1000 0000`          | `011 0000 0000 0000 0000 0000` |\n",
    "\n",
    "The exponent bias for single-precision floating-point is 127 ($(\\mathtt{111 \\, 1111})_2$)."
   ]
  },
  {
   "cell_type": "markdown",
   "metadata": {
    "slideshow": {
     "slide_type": "subslide"
    }
   },
   "source": [
    "The floating-point value is usually inexact.  For example, `0.3`, although it is rational, cannot be exactly represented as a single-precision floating-point.  Because the single-precision is 2-based, you should not follow the arithmic intuition learned from the 10-based number system."
   ]
  },
  {
   "cell_type": "code",
   "execution_count": null,
   "metadata": {},
   "outputs": [],
   "source": [
    "!g++ float.cpp -o float\n",
    "!./float"
   ]
  },
  {
   "cell_type": "markdown",
   "metadata": {},
   "source": [
    "$(3)_{10} = (1.1)_2\\times2^1$"
   ]
  },
  {
   "cell_type": "markdown",
   "metadata": {
    "slideshow": {
     "slide_type": "subslide"
    }
   },
   "source": [
    "## Double-precision (`double`)\n",
    "\n",
    "Double-precision floating-point value uses 64 bits (8 bytes).  The first 52 bits are fraction.  The following 11 bits are exponent.  The last (highest) bit is sign; 0 is positive while 1 is negative.  In C++, the type name is `double`.\n",
    "\n",
    "Use the same example of 2.75 for the double-precision floating-point.  Write $2.75 = (1.011)_2 \\times 2^1$.  The exponent bias for single-precision floating-point is 1023 ($(\\mathtt{11 \\, 1111 \\, 1111})_2$).  The bit fields are:\n",
    "\n",
    "| sign (1 bit)   | exponent (11 bits)   | fraction (52 bits)                                                 |\n",
    "|----------------|----------------------|--------------------------------------------------------------------|\n",
    "| `0`            | `100 0000 0000`      | `0110 0000 0000 0000 0000 0000 0000 0000 0000 0000 0000 0000 0000` |\n",
    "\n",
    "Compared with the single-precision version:\n",
    "\n",
    "| sign (1 bit)   | exponent (8 bits)    | fraction (23 bits)             |\n",
    "|----------------|----------------------|--------------------------------|\n",
    "| `0`            | `1000 0000`          | `011 0000 0000 0000 0000 0000` |"
   ]
  },
  {
   "cell_type": "markdown",
   "metadata": {
    "slideshow": {
     "slide_type": "subslide"
    }
   },
   "source": [
    "## Numeric limits\n",
    "\n",
    "Both C and C++ provides constants for the value limit of each type.  In C++, the constants are available through include file `limits`."
   ]
  },
  {
   "cell_type": "markdown",
   "metadata": {
    "slideshow": {
     "slide_type": "notes"
    }
   },
   "source": [
    "```cpp\n",
    "#include <iostream>\n",
    "#include <cstdint>\n",
    "#include <limits>\n",
    "int main(int, char **)\n",
    "{\n",
    "    std::cout << \"type\\t\\tlowest()\\tmin()\\t\\tmax()\\t\\tepsilon()\" << std::endl << std::endl;\n",
    "    std::cout << \"float\\t\\t\"\n",
    "              << std::numeric_limits<float>::lowest() << \"\\t\"\n",
    "              << std::numeric_limits<float>::min() << \"\\t\"\n",
    "              << std::numeric_limits<float>::max() << \"\\t\"\n",
    "              << std::numeric_limits<float>::epsilon() << \"\\t\"\n",
    "              << std::endl;\n",
    "    std::cout << \"double\\t\\t\"\n",
    "              << std::numeric_limits<double>::lowest() << \"\\t\"\n",
    "              << std::numeric_limits<double>::min() << \"\\t\"\n",
    "              << std::numeric_limits<double>::max() << \"\\t\"\n",
    "              << std::numeric_limits<double>::epsilon() << \"\\t\"\n",
    "              << std::endl;\n",
    "    std::cout << \"int32_t\\t\\t\"\n",
    "              << std::numeric_limits<int32_t>::lowest() << \"\\t\"\n",
    "              << std::numeric_limits<int32_t>::min() << \"\\t\"\n",
    "              << std::numeric_limits<int32_t>::max() << \"\\t\"\n",
    "              << std::numeric_limits<int32_t>::epsilon() << \"\\t\"\n",
    "              << std::endl;\n",
    "    std::cout << \"uint32_t\\t\"\n",
    "              << std::numeric_limits<uint32_t>::lowest() << \"\\t\\t\"\n",
    "              << std::numeric_limits<uint32_t>::min() << \"\\t\\t\"\n",
    "              << std::numeric_limits<uint32_t>::max() << \"\\t\"\n",
    "              << std::numeric_limits<uint32_t>::epsilon() << \"\\t\"\n",
    "              << std::endl;\n",
    "    std::cout << \"int64_t\\t\\t\"\n",
    "              << std::numeric_limits<int64_t>::lowest() << \"\\t\"\n",
    "              << std::numeric_limits<int64_t>::min() << \"\\t\"\n",
    "              << std::numeric_limits<int64_t>::max() << \"\\t\"\n",
    "              << std::numeric_limits<int64_t>::epsilon() << \"\\t\"\n",
    "              << std::endl;\n",
    "    std::cout << \"uint64_t\\t\"\n",
    "              << std::numeric_limits<uint64_t>::lowest() << \"\\t\\t\"\n",
    "              << std::numeric_limits<uint64_t>::min() << \"\\t\\t\"\n",
    "              << std::numeric_limits<uint64_t>::max() << \"\\t\"\n",
    "              << std::numeric_limits<uint64_t>::epsilon() << \"\\t\"\n",
    "              << std::endl;\n",
    "    return -1;\n",
    "}```"
   ]
  },
  {
   "cell_type": "code",
   "execution_count": null,
   "metadata": {},
   "outputs": [],
   "source": [
    "!g++ nlimits.cpp -o nlimits\n",
    "!./nlimits"
   ]
  },
  {
   "cell_type": "markdown",
   "metadata": {
    "slideshow": {
     "slide_type": "subslide"
    }
   },
   "source": [
    "## Exception handling\n",
    "\n",
    "The pragma \"`#pragma STDC FENV_ACCESS ON`\" turns on floating-point exception handling in CPU.  C++ defines the following floating-point exception that is supported by the hardware:\n",
    "\n",
    "| macro | math error condition | description |\n",
    "| -- | -- | -- |\n",
    "| FE_DIVBYZERO | pole error | math result was infinite or undefined |\n",
    "| FE_INEXACT | inexact result | rounding was required for the operation |\n",
    "| FE_INVALID | domain error | the argument was outside the domain in which the math operation |\n",
    "| FE_OVERFLOW | range error | the result was too large to be representable |\n",
    "| FE_UNDERFLOW | range error | the result became subnormal due to loss of precision |\n",
    "| FE_ALL_EXCEPT | -- | bitwise OR of all supported floating-point exceptions |"
   ]
  },
  {
   "cell_type": "markdown",
   "metadata": {
    "slideshow": {
     "slide_type": "notes"
    }
   },
   "source": [
    "`fpexc.cpp`:\n",
    "\n",
    "```cpp\n",
    "#include <iostream>\n",
    "#include <cfenv>\n",
    "#include <cmath>\n",
    "#include <limits>\n",
    "int main(int, char **)\n",
    "{\n",
    "    float v1;\n",
    "\n",
    "    feclearexcept(FE_ALL_EXCEPT);\n",
    "    v1 = 0.3;\n",
    "    std::cout << \"result: \" << v1/0 << std::endl;\n",
    "    if (fetestexcept(FE_DIVBYZERO)) { std::cout << \"  FE_DIVBYZERO\" << std::endl; }\n",
    "\n",
    "    feclearexcept(FE_ALL_EXCEPT);\n",
    "    v1 = 2;\n",
    "    std::cout << \"std::sqrt(2): \" << std::sqrt(v1) << std::endl;\n",
    "    if (fetestexcept(FE_INEXACT)) { std::cout << \"  FE_INEXACT\" << std::endl; }\n",
    "\n",
    "    feclearexcept(FE_ALL_EXCEPT);\n",
    "    v1 = 2;\n",
    "    std::cout << \"std::acos(2): \" << std::acos(v1) << std::endl;\n",
    "    if (fetestexcept(FE_INVALID)) { std::cout << \"  FE_INVALID\" << std::endl; }\n",
    "\n",
    "    feclearexcept(FE_ALL_EXCEPT);\n",
    "    v1 = std::numeric_limits<float>::max();\n",
    "    std::cout << \"std::numeric_limits<float>::max() * 2: \" << v1 * 2 << std::endl;\n",
    "    if (fetestexcept(FE_OVERFLOW)) { std::cout << \"  FE_OVERFLOW\" << std::endl; }\n",
    "\n",
    "    feclearexcept(FE_ALL_EXCEPT);\n",
    "    v1 = std::numeric_limits<float>::min();\n",
    "    std::cout << \"std::numeric_limits<float>::min() / 10: \" << v1 / 10 << std::endl;\n",
    "    if (fetestexcept(FE_UNDERFLOW)) { std::cout << \"  FE_UNDERFLOW\" << std::endl; }\n",
    "\n",
    "    return -1;\n",
    "}```"
   ]
  },
  {
   "cell_type": "code",
   "execution_count": null,
   "metadata": {},
   "outputs": [],
   "source": [
    "!g++ fpexc.cpp -o fpexc\n",
    "!./fpexc"
   ]
  },
  {
   "cell_type": "markdown",
   "metadata": {
    "slideshow": {
     "slide_type": "slide"
    }
   },
   "source": [
    "# Object-oriented programming\n",
    "\n",
    "1. Class, constructor and destructor\n",
    "2. Data encapsulation, accessor, reference type\n",
    "3. Polymorphism\n",
    "   1. Dynamic type\n",
    "4. CRTP"
   ]
  },
  {
   "cell_type": "markdown",
   "metadata": {
    "slideshow": {
     "slide_type": "slide"
    }
   },
   "source": [
    "# Standard template library (STL)\n",
    "\n",
    "1. std::vector, its internal and why the buffer address is dangerous\n",
    "2. std::array, std::deque, std::list\n",
    "3. std::map, std::unordered_map, std::set, std::unordered_set"
   ]
  },
  {
   "cell_type": "markdown",
   "metadata": {
    "slideshow": {
     "slide_type": "slide"
    }
   },
   "source": [
    "# Homework\n",
    "\n",
    "1. In `array.cpp`, what may happen if you write the following code?\n",
    "```cpp\n",
    "data[-1] = 0;\n",
    "```\n",
    "2. Given 2 single-precision floating-point values, 0.3 and -0.3.  Reinterpret (not integer to floating-point casting) their data (bits) as 32-bit unsigned integers.  What is the integer value after performing XOR of the two integers?  Change the floating-point values to 183.2 and -183.2.  What is the value after XOR again?"
   ]
  }
 ],
 "metadata": {
  "celltoolbar": "Slideshow",
  "kernelspec": {
   "display_name": "Python 3",
   "language": "python",
   "name": "python3"
  },
  "language_info": {
   "codemirror_mode": {
    "name": "ipython",
    "version": 3
   },
   "file_extension": ".py",
   "mimetype": "text/x-python",
   "name": "python",
   "nbconvert_exporter": "python",
   "pygments_lexer": "ipython3",
   "version": "3.7.3+"
  }
 },
 "nbformat": 4,
 "nbformat_minor": 2
}
