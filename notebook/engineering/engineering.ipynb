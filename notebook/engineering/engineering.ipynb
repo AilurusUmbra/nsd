{
 "cells": [
  {
   "cell_type": "markdown",
   "metadata": {
    "slideshow": {
     "slide_type": "slide"
    }
   },
   "source": [
    "# Fundamental engineering practices\n",
    "\n",
    "Writing computer code is only a fraction of software engineering.  A large chunk of efforts is spent in the coding infrastructure.  The keyword of making the engineering system is automation.\n",
    "\n",
    "1. Automation\n",
    "2. Version control and regression\n",
    "3. Work that cannot be automated"
   ]
  },
  {
   "cell_type": "markdown",
   "metadata": {
    "slideshow": {
     "slide_type": "slide"
    }
   },
   "source": [
    "# Bash scripting\n",
    "\n",
    "Shell script is the most common way for automation.  A shell is responsible for taking commands from users.  Every operating system provides shells.  Because of the ubiqitious Linux, `bash` becomes the most popular shell.  A bash shell script should work on almost all computer systems.\n",
    "\n",
    "Here I'll introduce some useful tricks for scripting bash."
   ]
  },
  {
   "cell_type": "markdown",
   "metadata": {
    "slideshow": {
     "slide_type": "subslide"
    }
   },
   "source": [
    "## Overview\n",
    "\n",
    "Structure of a simplest script:\n",
    "\n",
    "1. Shebang.\n",
    "2. Comment/document.\n",
    "3. Setup.\n",
    "4. Action."
   ]
  },
  {
   "cell_type": "markdown",
   "metadata": {
    "slideshow": {
     "slide_type": "notes"
    }
   },
   "source": [
    "Example (`clone-python.sh`):\n",
    "\n",
    "```bash\n",
    "#!/bin/bash\n",
    "#\n",
    "# This script clones the cpython repository.\n",
    "\n",
    "# setup environment variables.\n",
    "root=${ROOT:-~/tmp}\n",
    "pkgname=python\n",
    "pkgbranch=${VERSION:-3.7}\n",
    "pkgfull=$pkgname-$pkgbranch\n",
    "pkgrepo=https://github.com/python/cpython.git\n",
    "\n",
    "# clone.\n",
    "mkdir -p $root\n",
    "cd $root\n",
    "echo `pwd`\n",
    "if [ ! -d $pkgfull ] ; then\n",
    "  git clone -q -b $pkgbranch $pkgrepo $pkgfull\n",
    "fi\n",
    "```"
   ]
  },
  {
   "cell_type": "markdown",
   "metadata": {
    "slideshow": {
     "slide_type": "subslide"
    }
   },
   "source": [
    "A shell script file contains commands to `bash`.  Executing the bash script file is almost the same as typing those commands directly in an interactive shell.  Bash shell scripts are the most common way to record the commands and automate the work."
   ]
  },
  {
   "cell_type": "markdown",
   "metadata": {
    "slideshow": {
     "slide_type": "subslide"
    }
   },
   "source": [
    "## Variables"
   ]
  },
  {
   "cell_type": "markdown",
   "metadata": {},
   "source": [
    "Variables are essential in programming langauges.  Variables in bash do not have types, but there are two kinds of variables distinguished by their scopes.  One is the _shell variable_, which lives in the current shell.  The other is the _environment variable_, which is also visible in child processes.\n",
    "\n",
    "```bash\n",
    "shell_var=\"shell_value\"\n",
    "\n",
    "env_var=\"env_value\"\n",
    "export env_var\n",
    "export env_var2=\"other_env_value\"\n",
    "```"
   ]
  },
  {
   "cell_type": "markdown",
   "metadata": {
    "slideshow": {
     "slide_type": "subslide"
    }
   },
   "source": [
    "Default value when variable isn't set:"
   ]
  },
  {
   "cell_type": "code",
   "execution_count": null,
   "metadata": {
    "slideshow": {
     "slide_type": "-"
    }
   },
   "outputs": [],
   "source": [
    "# show the fallback value since the variable isn't set\n",
    "!unset THISENVVAR; echo ${THISENVVAR:-no such thing}"
   ]
  },
  {
   "cell_type": "code",
   "execution_count": null,
   "metadata": {},
   "outputs": [],
   "source": [
    "# use the variable value\n",
    "!THISENVVAR=\"some value\"; echo ${THISENVVAR:-no such thing}"
   ]
  },
  {
   "cell_type": "markdown",
   "metadata": {
    "slideshow": {
     "slide_type": "subslide"
    }
   },
   "source": [
    "## Sub-process vs source"
   ]
  },
  {
   "cell_type": "markdown",
   "metadata": {},
   "source": [
    "A bash script may be run in two ways.  One is to run it like an ordinary program.  A new process will be created by the current shell, and the script will be run in that process.  The other way is to use `source` (or its POSIX-compatible synonym, `.`) to run it in the current shell.  The latter makes the shell script work like a replay of the command sequence in it."
   ]
  },
  {
   "cell_type": "markdown",
   "metadata": {
    "slideshow": {
     "slide_type": "subslide"
    }
   },
   "source": [
    "Assume we have a bash script called `dosomething.sh`:\n",
    "\n",
    "```bash\n",
    "#!/bin/bash\n",
    "export MYENVVAR=\"MYENVVAR is set to what I want\"\n",
    "echo \"do something\"\n",
    "```"
   ]
  },
  {
   "cell_type": "markdown",
   "metadata": {},
   "source": [
    "The variable isn't set in the calling shell:"
   ]
  },
  {
   "cell_type": "code",
   "execution_count": null,
   "metadata": {},
   "outputs": [],
   "source": [
    "!unset MYENVVAR; ./dosomething.sh; echo ${MYENVVAR:-\"MYENVVAR is not set\"}"
   ]
  },
  {
   "cell_type": "markdown",
   "metadata": {},
   "source": [
    "The variable gets exported to the calling shell:"
   ]
  },
  {
   "cell_type": "code",
   "execution_count": null,
   "metadata": {
    "scrolled": false
   },
   "outputs": [],
   "source": [
    "!unset MYENVVAR; source ./dosomething.sh; echo ${MYENVVAR:-\"MYENVVAR is not set\"}"
   ]
  },
  {
   "cell_type": "markdown",
   "metadata": {
    "slideshow": {
     "slide_type": "subslide"
    }
   },
   "source": [
    "## Redirection"
   ]
  },
  {
   "cell_type": "markdown",
   "metadata": {},
   "source": [
    "When executing a command in a bash script it's commonplace to redirect the output to a file or another command."
   ]
  },
  {
   "cell_type": "code",
   "execution_count": null,
   "metadata": {},
   "outputs": [],
   "source": [
    "!echo \"a line output\" > line.log ; cat line.log"
   ]
  },
  {
   "cell_type": "markdown",
   "metadata": {},
   "source": [
    "Sometimes we want to redirect both stdout and stderr to a file.  The idiom is:"
   ]
  },
  {
   "cell_type": "code",
   "execution_count": null,
   "metadata": {},
   "outputs": [],
   "source": [
    "!echo \"a line output\" > line.log 2>&1 ; cat line.log"
   ]
  },
  {
   "cell_type": "markdown",
   "metadata": {},
   "source": [
    "Note that `2>&1` should be written after `> line.log`."
   ]
  },
  {
   "cell_type": "code",
   "execution_count": null,
   "metadata": {},
   "outputs": [],
   "source": [
    "!cp nothisfile.txt another.txt 2>&1 > /dev/null"
   ]
  },
  {
   "cell_type": "code",
   "execution_count": null,
   "metadata": {},
   "outputs": [],
   "source": [
    "!cp nothisfile.txt another.txt > /dev/null 2>&1"
   ]
  },
  {
   "cell_type": "markdown",
   "metadata": {
    "slideshow": {
     "slide_type": "subslide"
    }
   },
   "source": [
    "## Branching"
   ]
  },
  {
   "cell_type": "markdown",
   "metadata": {},
   "source": [
    "To write smart scirpts we need the `if`-`else` branching construct.  The following example detects the OS and runs different commands to obtain the number of (logical) processors on the machine:\n",
    "\n",
    "```bash\n",
    "#!/bin/bash\n",
    "if [[ \"$(uname)\" == \"Darwin\" ]] ; then\n",
    "  NP=${NP:-$(sysctl -n hw.ncpu)}\n",
    "elif [[ \"$(uname)\" == \"Linux\" ]] ; then\n",
    "  NP=${NP:-$(cat /proc/cpuinfo | grep processor | wc -l)}\n",
    "else\n",
    "  NP=${NP:=1}\n",
    "fi\n",
    "echo \"NP may be set to $NP\"\n",
    "```"
   ]
  },
  {
   "cell_type": "code",
   "execution_count": null,
   "metadata": {},
   "outputs": [],
   "source": [
    "!uname; ./shownp.sh"
   ]
  },
  {
   "cell_type": "markdown",
   "metadata": {
    "slideshow": {
     "slide_type": "subslide"
    }
   },
   "source": [
    "## Function\n",
    "\n",
    "`bash` allows us to write functions to collect commands and rerun it over and over in a script."
   ]
  },
  {
   "cell_type": "markdown",
   "metadata": {},
   "source": [
    "```bash\n",
    "#!/bin/bash\n",
    "runcmd () {\n",
    "  echo \"run command: ${@:2}\"\n",
    "  { time \"${@:2}\" ; } > $1 2>&1\n",
    "  echo \"done; log file: $(cd \"$(dirname $1)\" && pwd)/$1\"\n",
    "}\n",
    "runcmd line.log echo \"information shown\"\n",
    "```"
   ]
  },
  {
   "cell_type": "code",
   "execution_count": null,
   "metadata": {},
   "outputs": [],
   "source": [
    "!./bashfunction.sh ; cat line1.log; cat line2.log"
   ]
  },
  {
   "cell_type": "markdown",
   "metadata": {
    "slideshow": {
     "slide_type": "slide"
    }
   },
   "source": [
    "# Makefile\n",
    "\n",
    "`Makefile` is the input file of a tool called `make`.  `make` has many derived implementations since its creation in 1976 at Bell Labs.  The most popular implementation is GNU `make`, which is also required in building the Linux kernel.  We will be focusing on GNU `make`.\n",
    "\n",
    "A Makefile consists of rules in the following format:\n",
    "\n",
    "```make\n",
    "target : prerequisites [...]\n",
    "        recipe (1)\n",
    "        recipe (2)\n",
    "        ...\n",
    "```\n",
    "\n",
    "Note a tab is **required** at the beginning of each recipe line.  And rules and recipes are line-based.  If a recipe should use a single line and no more, or it needs to use `\\` for line continuation.  So is the rule."
   ]
  },
  {
   "cell_type": "markdown",
   "metadata": {
    "slideshow": {
     "slide_type": "subslide"
    }
   },
   "source": [
    "## `make`: Automating Your Recipes\n",
    "\n",
    "`make` keeps track of the file timestamps.\n",
    "* If the source file is older than its object file, `make` knows that it doesn't need to invoke the compiler.\n",
    "* If, in the other way around, the source file is newer than its object file, or the executable is newer than the object and library file, `make` will run the building tools according to the recipes written in the `Makefile`."
   ]
  },
  {
   "cell_type": "markdown",
   "metadata": {
    "slideshow": {
     "slide_type": "notes"
    }
   },
   "source": [
    "> Make originated with a visit from Steve Johnson (author of yacc, etc.), storming into my office, cursing the Fates that had caused him to waste a morning debugging a correct program (bug had been fixed, file hadn't been compiled, cc \\*.o was therefore unaffected). As I had spent a part of the previous evening coping with the same disaster on a project I was working on, the idea of a tool to solve it came up. It began with an elaborate idea of a dependency analyzer, boiled down to something much simpler, and turned into Make that weekend. Use of tools that were still wet was part of the culture. Makefiles were text files, not magically encoded binaries, because that was the Unix ethos: printable, debuggable, understandable stuff.\n",
    ">\n",
    "> _Stuart Feldman_"
   ]
  },
  {
   "cell_type": "markdown",
   "metadata": {
    "slideshow": {
     "slide_type": "subslide"
    }
   },
   "source": [
    "## Makefile format"
   ]
  },
  {
   "cell_type": "markdown",
   "metadata": {
    "slideshow": {
     "slide_type": "-"
    }
   },
   "source": [
    "Use the simple hello world program as an example for writing a make file.  First we set a variable `CXX` to designate the compiler command to be used:\n",
    "\n",
    "```\n",
    "CXX = g++\n",
    "```\n",
    "\n",
    "Write the first rule for linking the executable.  The first rule is the default rule that `make` will use when it is invoked without a target.\n",
    "\n",
    "```\n",
    "hello: hello.o hellomain.o\n",
    "\t$(CXX) hello.o hellomain.o -o hello\n",
    "```\n",
    "\n",
    "Then write two rules for the object files.  First `hello.o`:\n",
    "\n",
    "```\n",
    "hello.o: hello.cpp hello.hpp\n",
    "\t$(CXX) -c hello.cpp -o hello.o\n",
    "```\n",
    "\n",
    "Second `hellomain.o`:\n",
    "\n",
    "```\n",
    "hellomain.o: hellomain.cpp hello.hpp\n",
    "\t$(CXX) -c hellomain.cpp -o hellomain.o\n",
    "```\n",
    "\n",
    "Now we can use a single command to run all the recipes for building `hello`:"
   ]
  },
  {
   "cell_type": "code",
   "execution_count": null,
   "metadata": {},
   "outputs": [],
   "source": [
    "!cd make1; rm -f hello *.o; make"
   ]
  },
  {
   "cell_type": "markdown",
   "metadata": {},
   "source": [
    "`make` the second time.  Nothing needs to be done:"
   ]
  },
  {
   "cell_type": "code",
   "execution_count": null,
   "metadata": {},
   "outputs": [],
   "source": [
    "!cd make1; make"
   ]
  },
  {
   "cell_type": "markdown",
   "metadata": {},
   "source": [
    "If we change one of the source files (say, `hello.cpp`), `make` knows from the prerequisites (dependencies) that the other one doesn't need to be rebuilt."
   ]
  },
  {
   "cell_type": "code",
   "execution_count": null,
   "metadata": {},
   "outputs": [],
   "source": [
    "!cd make1; touch hello.cpp; make"
   ]
  },
  {
   "cell_type": "markdown",
   "metadata": {},
   "source": [
    "Change the shared prerequisites (the header file `hello.hpp`).  Everything needs to be rebuilt:"
   ]
  },
  {
   "cell_type": "code",
   "execution_count": null,
   "metadata": {
    "scrolled": true
   },
   "outputs": [],
   "source": [
    "!cd make1; touch hello.hpp; make"
   ]
  },
  {
   "cell_type": "markdown",
   "metadata": {
    "slideshow": {
     "slide_type": "subslide"
    }
   },
   "source": [
    "## Automatic variables"
   ]
  },
  {
   "cell_type": "markdown",
   "metadata": {},
   "source": [
    "We found some duplicated file names in the recipes in the above example.  `make` provides _automatic variables_ that allow us to remove them.\n",
    "\n",
    "* `$@` is the file name of the target of the rule.\n",
    "* `$^` is the file names of all the prerequisites.\n",
    "* `$<` is the file name of the first prerequisite.\n",
    "\n",
    "Aided by the automatic variables, we can simplify the recipes:\n",
    "\n",
    "```\n",
    "hello: hello.o hellomain.o\n",
    "\t$(CXX) $^ -o $@\n",
    "\n",
    "hello.o: hello.cpp hello.hpp\n",
    "\t$(CXX) -c $< -o $@\n",
    "\n",
    "hellomain.o: hellomain.cpp hello.hpp\n",
    "\t$(CXX) -c $< -o $@\n",
    "```\n",
    "\n",
    "The new `Makefile` works exactly the same as the previous one, but doesn't have the duplicated file names."
   ]
  },
  {
   "cell_type": "code",
   "execution_count": null,
   "metadata": {},
   "outputs": [],
   "source": [
    "!cd make2; rm -f hello *.o; make"
   ]
  },
  {
   "cell_type": "markdown",
   "metadata": {
    "slideshow": {
     "slide_type": "subslide"
    }
   },
   "source": [
    "## Implicit rule\n",
    "\n",
    "Even with the automatic variable, we see duplicated recipes for the two object file targets.  It can be removed by rewriting the *implicit rule* for `.o` file:\n",
    "\n",
    "```\n",
    "%.o: %.cpp hello.hpp\n",
    "\t$(CXX) -c $< -o $@\n",
    "```\n",
    "\n",
    "`%` in the target will match any non-empty characters, and it is expanded in the prerequisite.  Thus, the `Makefile` will become much simpler.  And there's fewer places for mistakes:\n",
    "\n",
    "```\n",
    "CXX = g++\n",
    "\n",
    "hello: hello.o hellomain.o\n",
    "\t$(CXX) $^ -o $@\n",
    "\n",
    "%.o: %.cpp hello.hpp\n",
    "\t$(CXX) -c $< -o $@\n",
    "```"
   ]
  },
  {
   "cell_type": "code",
   "execution_count": null,
   "metadata": {},
   "outputs": [],
   "source": [
    "!cd make3; rm -f hello *.o; make"
   ]
  },
  {
   "cell_type": "markdown",
   "metadata": {
    "slideshow": {
     "slide_type": "subslide"
    }
   },
   "source": [
    "## Popular phony target\n",
    "\n",
    "It is handy to have some targets that are not files, and use them to accomplish some pre-defined operations.  For example, almost all practical `Makefile`\\ s has a target called `clean`, and it removes all the built files."
   ]
  },
  {
   "cell_type": "code",
   "execution_count": null,
   "metadata": {},
   "outputs": [],
   "source": [
    "!cd make4; make clean"
   ]
  },
  {
   "cell_type": "markdown",
   "metadata": {},
   "source": [
    "These targets are called _phony targets_ (not real files).  The above operation is accomplished by the following rule:\n",
    "\n",
    "```\n",
    ".PHONY: clean\n",
    "clean:\n",
    "\trm -rf hello *.o\n",
    "```\n",
    "\n",
    "Another common use of phony targets is to redirect the default rule:\n",
    "\n",
    "```\n",
    "# If the following two lines are commented out, the default target becomes hello.o.\n",
    ".PHONY: default\n",
    "default: hello\n",
    "\n",
    "# Implicit rules will be skipped when searching for default.\n",
    "#%.o: %.cpp hello.hpp\n",
    "#\t$(CXX) -c $< -o $@\n",
    "\n",
    "hello.o: hello.cpp hello.hpp\n",
    "\t$(CXX) -c $< -o $@\n",
    "\n",
    "hellomain.o: hellomain.cpp hello.hpp\n",
    "\t$(CXX) -c $< -o $@\n",
    "\n",
    "hello: hello.o hellomain.o\n",
    "\t$(CXX) $^ -o $@\n",
    "```"
   ]
  },
  {
   "cell_type": "code",
   "execution_count": null,
   "metadata": {},
   "outputs": [],
   "source": [
    "!cd make4; make clean; make"
   ]
  },
  {
   "cell_type": "markdown",
   "metadata": {
    "slideshow": {
     "slide_type": "slide"
    }
   },
   "source": [
    "# Cmake\n",
    "\n",
    "Automation is needed to simplify entangled operations which induce human errors.  Cross-platform building is a common example of such operations.  We've seen in a previous example (a bash shell script) how it comes to us:\n",
    "\n",
    "```\n",
    "#!/bin/bash\n",
    "if [[ \"$(uname)\" == \"Darwin\" ]] ; then\n",
    "  NP=${NP:-$(sysctl -n hw.ncpu)}\n",
    "elif [[ \"$(uname)\" == \"Linux\" ]] ; then\n",
    "  NP=${NP:-$(cat /proc/cpuinfo | grep processor | wc -l)}\n",
    "else\n",
    "  NP=${NP:=1}\n",
    "fi\n",
    "echo \"NP may be set to $NP\"\n",
    "```\n",
    "\n",
    "As the software grows, such simple conditional statements fail to handle the complexity.  It applies to both shell scripts and make files.  We need a dedicated tool for orchestrating the build processs.  Cmake is such a tool."
   ]
  },
  {
   "cell_type": "markdown",
   "metadata": {
    "slideshow": {
     "slide_type": "subslide"
    }
   },
   "source": [
    "Although it has \"make\" in the name, cmake is _not_ a variant of make.  It requires its own configuration file, called `CMakeLists.txt`.  On Linux, we usually let cmake to generate GNU make files, and then run make to build the software.  This is a so-called two-stage building process.  Cmake provides many helpers so that we may relatively easily configure the real build commands to deal with compiler flags, library and executable file names, and third-party librarires (dependencies).\n",
    "\n",
    "It is easy to let cmake use a separate build directory (it's the default behavior); the built files will be in a different directory from the source tree.  In this way, a single source tree may easily produce multiple binary trees.\n",
    "\n",
    "Since cmake is only used to deal with complex configuration, we may not use a simple example to show how it is used.  Instead, high-level information about what it does will be provided."
   ]
  },
  {
   "cell_type": "markdown",
   "metadata": {
    "slideshow": {
     "slide_type": "subslide"
    }
   },
   "source": [
    "## How to run cmake\n",
    "\n",
    "By default cmake expects to be run in a separate build directory.  Assume the current working directory is the project root.  The common way to invoke cmake for building the project is:\n",
    "\n",
    "```\n",
    "$ mkdir -p build/dev\n",
    "$ cd build/dev\n",
    "$ cmake ../.. -DCMAKE_BUILD_TYPE=Release\n",
    "-- The C compiler identification is AppleClang 10.0.1.10010046\n",
    "-- The CXX compiler identification is AppleClang 10.0.1.10010046\n",
    "...\n",
    "-- Configuring done\n",
    "-- Generating done\n",
    "-- Build files have been written to: /absolute/path/to/build/dev\n",
    "```"
   ]
  },
  {
   "cell_type": "markdown",
   "metadata": {
    "slideshow": {
     "slide_type": "subslide"
    }
   },
   "source": [
    "## Select C++ standards\n",
    "\n",
    "We may use cmake to pick which standard the C++ compiler should use:\n",
    "\n",
    "```\n",
    "set(CMAKE_CXX_STANDARD 14)\n",
    "set(CMAKE_CXX_STANDARD_REQUIRED ON)\n",
    "```\n",
    "\n",
    "Different compilers may have different options for the C++ standard.  clang and gcc use `-std=`, while msvc uses `/std:`.  The cmake variables know what to use for each of the supported compilers.  The generated make file will result in a recipe like:\n",
    "\n",
    "```\n",
    "c++ -O3 -DNDEBUG -fPIC -flto -std=c++14 -o CMakeFiles/_libst.dir/src/python/libst.cpp.o -c /absolute/path/to/src/python/libst.cpp\n",
    "```"
   ]
  },
  {
   "cell_type": "markdown",
   "metadata": {
    "slideshow": {
     "slide_type": "subslide"
    }
   },
   "source": [
    "## Add a custom option\n",
    "\n",
    "Cmake allows to add any custom option that is consumed from the command line.  For example, a new `DEBUG_SYMBOL` optiona can be added by the following cmake list code:\n",
    "\n",
    "```\n",
    "option(DEBUG_SYMBOL \"add debug information\" ON)\n",
    "\n",
    "if(DEBUG_SYMBOL)\n",
    "    set(CMAKE_CXX_FLAGS \"${CMAKE_CXX_FLAGS} -g\")\n",
    "endif()\n",
    "```\n",
    "\n",
    "The option is supplied to cmake as such:\n",
    "\n",
    "```\n",
    "cmake root -DDEBUG_SYMBOL=ON\n",
    "```"
   ]
  },
  {
   "cell_type": "markdown",
   "metadata": {
    "slideshow": {
     "slide_type": "slide"
    }
   },
   "source": [
    "# Git version control system"
   ]
  },
  {
   "cell_type": "markdown",
   "metadata": {
    "slideshow": {
     "slide_type": "slide"
    }
   },
   "source": [
    "# Automatic testing"
   ]
  },
  {
   "cell_type": "markdown",
   "metadata": {
    "slideshow": {
     "slide_type": "slide"
    }
   },
   "source": [
    "# Wrap to Python: pybind11"
   ]
  },
  {
   "cell_type": "markdown",
   "metadata": {
    "slideshow": {
     "slide_type": "slide"
    }
   },
   "source": [
    "# Continuous integration"
   ]
  },
  {
   "cell_type": "markdown",
   "metadata": {
    "slideshow": {
     "slide_type": "slide"
    }
   },
   "source": [
    "# Code review"
   ]
  },
  {
   "cell_type": "markdown",
   "metadata": {
    "slideshow": {
     "slide_type": "slide"
    }
   },
   "source": [
    "# Timing"
   ]
  },
  {
   "cell_type": "markdown",
   "metadata": {
    "slideshow": {
     "slide_type": "slide"
    }
   },
   "source": [
    "# Homework\n",
    "\n",
    "1. Write a bash shell script to build all of the example programs in the previous lectures.\n",
    "2. Write a Makefile to build all of the example programs in the previous lecture."
   ]
  },
  {
   "cell_type": "markdown",
   "metadata": {
    "slideshow": {
     "slide_type": "slide"
    }
   },
   "source": [
    "# References\n",
    "\n",
    "* https://www.gnu.org/software/bash/manual/bash.html\n",
    "* https://www.gnu.org/software/make/manual/make.html"
   ]
  }
 ],
 "metadata": {
  "celltoolbar": "Slideshow",
  "kernelspec": {
   "display_name": "Python 3",
   "language": "python",
   "name": "python3"
  },
  "language_info": {
   "codemirror_mode": {
    "name": "ipython",
    "version": 3
   },
   "file_extension": ".py",
   "mimetype": "text/x-python",
   "name": "python",
   "nbconvert_exporter": "python",
   "pygments_lexer": "ipython3",
   "version": "3.7.3+"
  }
 },
 "nbformat": 4,
 "nbformat_minor": 2
}
