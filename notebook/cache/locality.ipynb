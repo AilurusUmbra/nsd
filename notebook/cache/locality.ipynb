{
 "cells": [
  {
   "cell_type": "code",
   "execution_count": null,
   "metadata": {},
   "outputs": [],
   "source": [
    "import numpy as np"
   ]
  },
  {
   "cell_type": "code",
   "execution_count": null,
   "metadata": {},
   "outputs": [],
   "source": [
    "%env VECLIB_MAXIMUM_THREADS=1"
   ]
  },
  {
   "cell_type": "code",
   "execution_count": null,
   "metadata": {},
   "outputs": [],
   "source": [
    "mat_rmajor = np.arange(100000000, dtype='float64').reshape((10000,10000))\n",
    "mat_cmajor = mat_rmajor.T.copy().T\n",
    "vec = np.arange(10000, dtype='float64')"
   ]
  },
  {
   "cell_type": "code",
   "execution_count": null,
   "metadata": {},
   "outputs": [],
   "source": [
    "%%time\n",
    "res_rmajor = np.dot(mat_rmajor, vec)"
   ]
  },
  {
   "cell_type": "code",
   "execution_count": null,
   "metadata": {},
   "outputs": [],
   "source": [
    "%%time\n",
    "res_cmajor = np.dot(mat_cmajor, vec)"
   ]
  },
  {
   "cell_type": "code",
   "execution_count": null,
   "metadata": {},
   "outputs": [],
   "source": [
    "assert mat_rmajor.flags['C_CONTIGUOUS']\n",
    "assert not mat_rmajor.flags['F_CONTIGUOUS']\n",
    "assert not mat_cmajor.flags['C_CONTIGUOUS']\n",
    "assert mat_cmajor.flags['F_CONTIGUOUS']\n",
    "assert (mat_rmajor == mat_cmajor).all()\n",
    "assert res_rmajor.shape == vec.shape\n",
    "assert (res_rmajor == res_cmajor).all()"
   ]
  },
  {
   "cell_type": "code",
   "execution_count": null,
   "metadata": {},
   "outputs": [],
   "source": [
    "print(mat_rmajor.dtype, vec.dtype, res_rmajor.dtype, '{:,}'.format(res_rmajor.max()))"
   ]
  },
  {
   "cell_type": "code",
   "execution_count": null,
   "metadata": {},
   "outputs": [],
   "source": [
    "a = np.arange(4, dtype='float64').reshape((2,2))\n",
    "v = np.array([2, 4], dtype='float64')\n",
    "print(a, v, np.dot(a, v))"
   ]
  },
  {
   "cell_type": "code",
   "execution_count": null,
   "metadata": {},
   "outputs": [],
   "source": [
    "mat_rmajor = np.arange(100000000, dtype='int64').reshape((10000,10000))\n",
    "mat_cmajor = mat_rmajor.T.copy().T\n",
    "vec = np.arange(10000, dtype='int64')"
   ]
  },
  {
   "cell_type": "code",
   "execution_count": null,
   "metadata": {},
   "outputs": [],
   "source": [
    "%%time\n",
    "res_rmajor = np.dot(mat_rmajor, vec)"
   ]
  },
  {
   "cell_type": "code",
   "execution_count": null,
   "metadata": {},
   "outputs": [],
   "source": [
    "%%time\n",
    "res_cmajor = np.dot(mat_cmajor, vec)"
   ]
  },
  {
   "cell_type": "code",
   "execution_count": null,
   "metadata": {},
   "outputs": [],
   "source": [
    "assert mat_rmajor.flags['C_CONTIGUOUS']\n",
    "assert not mat_rmajor.flags['F_CONTIGUOUS']\n",
    "assert not mat_cmajor.flags['C_CONTIGUOUS']\n",
    "assert mat_cmajor.flags['F_CONTIGUOUS']\n",
    "assert (mat_rmajor == mat_cmajor).all()\n",
    "assert res_rmajor.shape == vec.shape\n",
    "assert (res_rmajor == res_cmajor).all()"
   ]
  },
  {
   "cell_type": "code",
   "execution_count": null,
   "metadata": {},
   "outputs": [],
   "source": [
    "print(mat_rmajor.dtype, vec.dtype, res_rmajor.dtype, '{:,}'.format(res_rmajor.max()))"
   ]
  },
  {
   "cell_type": "code",
   "execution_count": null,
   "metadata": {},
   "outputs": [],
   "source": [
    "a = np.arange(4, dtype='float64').reshape((2,2))\n",
    "v = np.array([2, 4], dtype='float64')\n",
    "print(a, v, np.dot(a, v))"
   ]
  }
 ],
 "metadata": {
  "kernelspec": {
   "display_name": "Python 3",
   "language": "python",
   "name": "python3"
  },
  "language_info": {
   "codemirror_mode": {
    "name": "ipython",
    "version": 3
   },
   "file_extension": ".py",
   "mimetype": "text/x-python",
   "name": "python",
   "nbconvert_exporter": "python",
   "pygments_lexer": "ipython3",
   "version": "3.7.4+"
  }
 },
 "nbformat": 4,
 "nbformat_minor": 2
}
