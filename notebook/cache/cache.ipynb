{
 "cells": [
  {
   "cell_type": "code",
   "execution_count": null,
   "metadata": {},
   "outputs": [],
   "source": [
    "%env VECLIB_MAXIMUM_THREADS=1\n",
    "import numpy as np"
   ]
  },
  {
   "cell_type": "markdown",
   "metadata": {},
   "source": [
    "# Cache optimization\n",
    "\n",
    "1. How cache works and its importance to performance\n",
    "2. Stride analysis\n",
    "3. Tiling"
   ]
  },
  {
   "cell_type": "markdown",
   "metadata": {},
   "source": [
    "# Memory hierarchy\n",
    "\n",
    "To show how cache works and its importance to performance, see table below:\n",
    "\n",
    "| Type | Latency (cycles) |\n",
    "| -- | -- |\n",
    "| CPU registers | 0 |\n",
    "| L1 cache | 4 |\n",
    "| L2 cache | 10 |\n",
    "| L3 cache | 50 |\n",
    "| Main memory | 200 |\n",
    "| Disk / drive | 100,000 |\n",
    "\n",
    "(Excerpt from Figure 6.23 in CS:APP (3/e).)\n",
    "\n",
    "Remarks:\n",
    "* Disk (or SSD) is slow.  Don't do I/O unless absolutely necessary.\n",
    "* CPU instruction is 100x faster than memory access.\n",
    "* Cache hides the memory latency.\n",
    "\n",
    "Nothing is fast without cache."
   ]
  },
  {
   "cell_type": "markdown",
   "metadata": {},
   "source": [
    "## How cache works\n",
    "\n",
    "Assume we have a main memory of 64 bytes, and a cache of 8 bytes.\n",
    "\n",
    "| Access # | Decimal addr | Binary addr | Hit or miss | Cache block (binary) |\n",
    "| -- | -- | -- | -- | -- |\n",
    "| 1 | 22 | 10110 | miss (cold) | 110 |\n",
    "| 2 | 26 | 11010 | miss (cold) | 010 |\n",
    "| 3 | 22 | 10110 | hit | 110 |\n",
    "| 4 | 26 | 11010 | hit | 010 |\n",
    "| 5 | 16 | 10000 | miss (cold) | 000 |\n",
    "| 6 | 18 | 10010 | miss (conflict) | 010 |\n",
    "| 7 | 26 | 11010 | miss (conflict) | 010 |\n",
    "\n",
    "This is a direct-map cache.  To reduce conflict misses, we may use multi-way set associativity.  2-, 4-, or 8-way set associative cache is commonly used.  Full associativity is too expensive in circuit implementation."
   ]
  },
  {
   "cell_type": "markdown",
   "metadata": {},
   "source": [
    "# Cache block (line)\n",
    "\n",
    "A cache block usually contains more than one byte or word.  In x86, the block (line) size is 64 bytes.  That is, when loading data from main memory to cache, it's done once a block, rather than byte by byte.\n",
    "\n",
    "```cpp\n",
    "// Sequential.\n",
    "for (int i=0; i<nelem; ++i) { arr[i] = i; }\n",
    "sw.lap();\n",
    "for (int i=0; i<nelem; ++i) { arr[i] *= 3; }\n",
    "elapsed = sw.lap();\n",
    "\n",
    "// Skipping 2.\n",
    "for (int i=0; i<nelem; ++i) { arr[i] = i; }\n",
    "sw.lap();\n",
    "for (int i=0; i<nelem; i+=2) { arr[i] *= 3; }\n",
    "elapsed = sw.lap();\n",
    "\n",
    "// ... 4, 8, 16, ... 1024.\n",
    "```"
   ]
  },
  {
   "cell_type": "code",
   "execution_count": null,
   "metadata": {},
   "outputs": [],
   "source": [
    "# Show how main memory (dram) access dominates runtime.\n",
    "!g++ -std=c++17 -O3 skip_access.cpp -o skip_access ; ./skip_access"
   ]
  },
  {
   "cell_type": "markdown",
   "metadata": {},
   "source": [
    "# Locality\n",
    "\n",
    "While coding we usually don't have a lot of time to do detailed cache analysis.  Instead, we keep in mind that the code runs faster when it's more compact.  This is the concept of locality.\n",
    "\n",
    "There are two kinds of locality: temporal and spatial.  Temporal locality means that a fixed address is reused in the near future.  Spatial locality means that the addresses close to the current address is reused in the near future.  The better locality, of either kind, improves the performance.  And the cache hierarchy is why locality works.\n",
    "\n",
    "To take advantage of locality, programmers analyze by using \"strides\".  A stride is the number of indexes to elements to slide when accessing the data in arrays.  The most basic striding is sequential access, or the 1-stride.  Similarly, we may have n-strides.  The larger the stride is, the worse the locality.\n",
    "\n",
    "Recall that x86 uses 64-byte cache blocks, and a double-precision floating point takes 8 bytes."
   ]
  },
  {
   "cell_type": "markdown",
   "metadata": {},
   "source": [
    "## Demonstrate by matrix-vector multiplication"
   ]
  },
  {
   "cell_type": "code",
   "execution_count": null,
   "metadata": {},
   "outputs": [],
   "source": [
    "# Show how striding affects runtime.\n",
    "!g++ -std=c++17 -O3 locality.cpp -o locality ; ./locality"
   ]
  },
  {
   "cell_type": "markdown",
   "metadata": {},
   "source": [
    "While writing programs, it's much easier to know the stride than analyzing the cache behavior.  The latter, in many scenarios, is prohibitively difficult."
   ]
  },
  {
   "cell_type": "markdown",
   "metadata": {},
   "source": [
    "## Array majoring\n",
    "\n",
    "Array majoring is directly related to locality.  The difference in the performance of matrix-vector multiplication is show for row- and column-majoring arrays."
   ]
  },
  {
   "cell_type": "code",
   "execution_count": null,
   "metadata": {},
   "outputs": [],
   "source": [
    "float_rmajor = np.arange(10000*10000, dtype='float64').reshape((10000,10000))\n",
    "float_cmajor = float_rmajor.T.copy().T\n",
    "vec = np.arange(10000, dtype='float64')"
   ]
  },
  {
   "cell_type": "code",
   "execution_count": null,
   "metadata": {},
   "outputs": [],
   "source": [
    "%%time\n",
    "res_float_rmajor = np.dot(float_rmajor, vec)"
   ]
  },
  {
   "cell_type": "code",
   "execution_count": null,
   "metadata": {},
   "outputs": [],
   "source": [
    "%%time\n",
    "res_float_cmajor = np.dot(float_cmajor, vec)"
   ]
  },
  {
   "cell_type": "markdown",
   "metadata": {},
   "source": [
    "### Integer matrix-vector multiplication"
   ]
  },
  {
   "cell_type": "code",
   "execution_count": null,
   "metadata": {},
   "outputs": [],
   "source": [
    "int_rmajor = np.arange(10000*10000, dtype='int64').reshape((10000,10000))\n",
    "int_cmajor = int_rmajor.T.copy().T\n",
    "vec = np.arange(10000, dtype='int64')"
   ]
  },
  {
   "cell_type": "code",
   "execution_count": null,
   "metadata": {},
   "outputs": [],
   "source": [
    "%%time\n",
    "res_int_rmajor = np.dot(int_rmajor, vec)"
   ]
  },
  {
   "cell_type": "code",
   "execution_count": null,
   "metadata": {},
   "outputs": [],
   "source": [
    "%%time\n",
    "res_int_cmajor = np.dot(int_cmajor, vec)"
   ]
  },
  {
   "cell_type": "markdown",
   "metadata": {},
   "source": [
    "Question: why the performance difference of integer arrays is much larger than floating-point arrays?  Note that `double` and `int64` both take 8 bytes.  And interestingly, floating point is slightly faster than integer."
   ]
  },
  {
   "cell_type": "markdown",
   "metadata": {},
   "source": [
    "# References\n",
    "\n",
    "* Gallery of Processor Cache Effects: http://igoro.com/archive/gallery-of-processor-cache-effects/"
   ]
  }
 ],
 "metadata": {
  "kernelspec": {
   "display_name": "Python 3",
   "language": "python",
   "name": "python3"
  },
  "language_info": {
   "codemirror_mode": {
    "name": "ipython",
    "version": 3
   },
   "file_extension": ".py",
   "mimetype": "text/x-python",
   "name": "python",
   "nbconvert_exporter": "python",
   "pygments_lexer": "ipython3",
   "version": "3.7.4+"
  }
 },
 "nbformat": 4,
 "nbformat_minor": 2
}
