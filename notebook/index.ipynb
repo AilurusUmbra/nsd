{
 "cells": [
  {
   "cell_type": "markdown",
   "metadata": {},
   "source": [
    "# Numerical Software Development\n",
    "\n",
    "**Objectives**: This course discusses the art of engineering numerical software, which is computer programs applying numerical methods for solving mathematical or physical problems.  We will be using the combination of bash, git, Python, C++ (with a bit of C), and related tools to learn the modern development processes.\n",
    "\n",
    "**Prerequisites**:  This is a graduate or senior level course open to all students who have taken engineering mathematics or equivalence.  Working knowledge of Linux and Unix-like is required.  Prior knowledge to numerical methods is recommended."
   ]
  },
  {
   "cell_type": "markdown",
   "metadata": {},
   "source": [
    "# Lecture 1: [Python and numpy](numpy.ipynb)\n",
    "\n",
    "Numerical software is always developed as a platform.  It works like a library providing data structures and helpers to solve problems.  The users will use a scripting engine it provides to build applications.  Python is a popular choice for the scripting engine.\n",
    "\n",
    "1. Organize Python modules\n",
    "2. Numpy for array-centric code\n",
    "3. Singular value problems\n",
    "4. The Laplace equations"
   ]
  },
  {
   "cell_type": "markdown",
   "metadata": {},
   "source": [
    "# Lecture 2: C++ and computer architecture\n",
    "\n",
    "The low-level code of numerical software must be high-performance.  The industries chose C++ because it can take advantage of everything that a hardware architecture offers while using any level of abstraction.\n",
    "\n",
    "1. Introduce compiler tools\n",
    "2. Real numbers\n",
    "3. Von Neumann architecture\n",
    "4. Memory hierarchy"
   ]
  },
  {
   "cell_type": "markdown",
   "metadata": {},
   "source": [
    "# Lecture 3: fundamental engineering practices\n",
    "\n",
    "Writing computer code is only a fraction of the work to build computer software.  A large chunk of resources is spent in making sure the software delivers the results it should.  As in any engineering discipline, automation is key.\n",
    "\n",
    "1. Build system: make and cmake\n",
    "2. Version control: git and concept of centralized VCS\n",
    "3. Code review\n",
    "4. Automatic testing: google-test, py.test, and TravisCI\n",
    "5. Profiling: perf and timing"
   ]
  },
  {
   "cell_type": "markdown",
   "metadata": {},
   "source": [
    "# Lecture 4: memory management\n",
    "\n",
    "Numerical software tends to use\n",
    "as much memory as a workstation has.  There are two major reasons: (i) the\n",
    "applications usually need a lot of memory, and (ii) we trade memory for speed.\n",
    "\n",
    "1. Stack and heap\n",
    "2. Linux and POSIX memory manager\n",
    "3. C++ memory manager\n",
    "4. Linux memory report"
   ]
  },
  {
   "cell_type": "markdown",
   "metadata": {},
   "source": [
    "# Lecture 5: matrix operations\n",
    "\n",
    "As linear algebra is fundamental in almost everything uses mathematics, matrices are everywhere in numerical analysis.  There isn't shortage of linear algebraic software packages and it's critically important to understand how they work.\n",
    "\n",
    "1. Simple arrays in C++ and Python\n",
    "2. Pimpl and POD\n",
    "3. Matrix-matrix and matrix-vector operations"
   ]
  },
  {
   "cell_type": "markdown",
   "metadata": {},
   "source": [
    "# Lecture 6: cache optimization and SIMD\n",
    "\n",
    "To use all the cycles the data transfer between main memory and CPU must be minimized.\n",
    "\n",
    "1. Stride analysis; how cache greatly affects performance\n",
    "2. Tiling\n",
    "3. Single instruction multiple data (SIMD)"
   ]
  },
  {
   "cell_type": "markdown",
   "metadata": {},
   "source": [
    "# Lecture 7: recap: modern C++\n",
    "\n",
    "Some skills are important to writing maintainable code in C++.  We should stick to modern C++, that is the dialect exclusively uses C++ standard 11, 14, 17, and beyond.\n",
    "\n",
    "1. Curiously recursive template pattern (CRTP): static polymorphism\n",
    "2. Smart pointers\n",
    "3. Template meta-programming and compile-time computation\n",
    "4. Perfect forwarding"
   ]
  },
  {
   "cell_type": "markdown",
   "metadata": {},
   "source": [
    "# Lecture 8: [xtensor](xtensor.ipynb)\n",
    "\n",
    "Xtensor provides compile-time optimization enabled by the static typing system of C++.  It should be reminded, though, that numerical software has most of its code doing house keeping, which doesn't need the high performance."
   ]
  },
  {
   "cell_type": "markdown",
   "metadata": {},
   "source": [
    "# Lecture 9: pybind11 and cpython API\n",
    "\n",
    "High-performance code needs careful design for the data flow between the low-level implementation and the high-level scripting layer.\n",
    "\n",
    "1. Reference counting\n",
    "2. Introduce pybind11\n",
    "3. Ownership management across C++ and Python\n",
    "4. Cpython and pybind11 API for important Python types"
   ]
  },
  {
   "cell_type": "markdown",
   "metadata": {},
   "source": [
    "# Lecture 10: cpython internals\n",
    "\n",
    "Learn when Python is slow and when it can be worked around.\n",
    "\n",
    "1. Primitive numbers\n",
    "2. Tuple, list, and dict"
   ]
  },
  {
   "cell_type": "markdown",
   "metadata": {},
   "source": [
    "# Lecture 11: high-performance software design\n",
    "\n",
    "There are some general guidelines for high-performance code.  Although following them doesn't prevent you from slow code, ignoring them usually guarantees it.\n",
    "\n",
    "1. Array majoring\n",
    "2. Compact struct and encapsulating it\n",
    "3. Profiling and diagnostic hook"
   ]
  },
  {
   "cell_type": "markdown",
   "metadata": {},
   "source": [
    "# Lecture 12: hybrid code organization\n",
    "\n",
    "Numerical software is born to be fast.  In the development iterations performance always involves. This is the central idea of developing a hybrid system, and the code should be organized accordingly.\n",
    "\n",
    "1. Wrap around pybind11\n",
    "2. Straight dependency"
   ]
  }
 ],
 "metadata": {
  "kernelspec": {
   "display_name": "Python 3",
   "language": "python",
   "name": "python3"
  },
  "language_info": {
   "codemirror_mode": {
    "name": "ipython",
    "version": 3
   },
   "file_extension": ".py",
   "mimetype": "text/x-python",
   "name": "python",
   "nbconvert_exporter": "python",
   "pygments_lexer": "ipython3",
   "version": "3.6.6+"
  }
 },
 "nbformat": 4,
 "nbformat_minor": 2
}
