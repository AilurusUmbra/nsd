{
 "cells": [
  {
   "cell_type": "markdown",
   "metadata": {},
   "source": [
    "# Matrix operations\n",
    "\n",
    "As linear algebra is fundamental in almost everything uses mathematics, matrices are everywhere in numerical analysis.  There isn't shortage of linear algebraic software packages and it's critically important to understand how they work.\n",
    "\n",
    "1. POD arrays and majoring\n",
    "2. Matrix-vector and matrix-matrix operations\n",
    "3. Linear algebra"
   ]
  },
  {
   "cell_type": "markdown",
   "metadata": {},
   "source": [
    "# POD arrays\n",
    "\n",
    "The plain-old-data (POD) arrays are also called C-style arrays.  They are given the names because they are nothing more than just data and support no mechanism fancier than arithmetic.  We DO, oftentimes, wrap POD with fancy C++ constructs, but all the heavy-lifting numerical calculations still need to be done with POD, because essentially that's how von Neumann computers work.  (It clearly reveals itself in the machine code.  Check it yourselves.)"
   ]
  },
  {
   "cell_type": "markdown",
   "metadata": {},
   "source": [
    "## Vector: 1D array\n",
    "\n",
    "A vector is stored as a (usually contiguous) memory buffer of sequetially ordered elements."
   ]
  },
  {
   "cell_type": "code",
   "execution_count": null,
   "metadata": {},
   "outputs": [],
   "source": [
    "!make pod_vector; ./pod_vector"
   ]
  },
  {
   "cell_type": "markdown",
   "metadata": {},
   "source": [
    "BLAS (basic linear albegra subprograms; a standard set of array manipulation API) defines vector operations as the 1st level.  A partial list of them:\n",
    "\n",
    "* `SAXPY`: $\\mathbf{y} = a\\mathbf{x} + \\mathbf{y}$, constant times a vector plus a vector\n",
    "* `SDOT`: $\\mathbf{x}\\cdot\\mathbf{y}$, dot product of two vectors.\n",
    "* `SNRM2`: $\\sqrt{\\mathbf{y}\\cdot\\mathbf{y}}, $Euclidean norm.\n",
    "\n",
    "The operations are simple enough that we usually don't need to call the library."
   ]
  },
  {
   "cell_type": "markdown",
   "metadata": {},
   "source": [
    "## Matrix: 2D array\n",
    "\n",
    "See how to represent a $5\\times5$ square matrix:\n",
    "\n",
    "\\begin{align*}\n",
    "\\mathrm{A} = \\left[ a_{ij} \\right] = \\left(\\begin{array}{ccccc}\n",
    "a_{11} & a_{12} & a_{13} & a_{14} & a_{15} \\\\\n",
    "a_{21} & a_{22} & a_{23} & a_{24} & a_{25} \\\\\n",
    "a_{31} & a_{32} & a_{33} & a_{34} & a_{35} \\\\\n",
    "a_{41} & a_{42} & a_{43} & a_{44} & a_{45} \\\\\n",
    "a_{51} & a_{52} & a_{53} & a_{54} & a_{55}\n",
    "\\end{array}\\right)\n",
    "\\end{align*}\n",
    "\n",
    "$i$ is the row index (in the horizontal direction).  $j$ is the column index (in the vertical direction).  If we want to use the 0-based index, it can be rewritten as:\n",
    "\n",
    "\\begin{align*}\n",
    "\\mathrm{A} = \\left[ a_{ij} \\right] = \\left(\\begin{array}{ccccc}\n",
    "a_{00} & a_{01} & a_{02} & a_{03} & a_{04} \\\\\n",
    "a_{10} & a_{11} & a_{12} & a_{13} & a_{14} \\\\\n",
    "a_{20} & a_{21} & a_{22} & a_{23} & a_{24} \\\\\n",
    "a_{30} & a_{31} & a_{32} & a_{33} & a_{34} \\\\\n",
    "a_{40} & a_{41} & a_{42} & a_{43} & a_{44}\n",
    "\\end{array}\\right)\n",
    "\\end{align*}"
   ]
  },
  {
   "cell_type": "markdown",
   "metadata": {},
   "source": [
    "In C++ we can use an auto variable like below for the matrix:\n",
    "\n",
    "```cpp\n",
    "constexpr size_t width = 5;\n",
    "\n",
    "double amatrix[width][width];\n",
    "\n",
    "// Populate the matrix on stack (row-major 2D array).\n",
    "for (size_t i=0; i<width; ++i) // the i-th row\n",
    "{\n",
    "    for (size_t j=0; j<width; ++j) // the j-th column\n",
    "    {\n",
    "        amatrix[i][j] = i*10 + j;\n",
    "    }\n",
    "}\n",
    "\n",
    "std::cout << \"2D array elements:\";\n",
    "for (size_t i=0; i<width; ++i)\n",
    "{\n",
    "    std::cout << std::endl << \" \";\n",
    "    for (size_t j=0; j<width; ++j)\n",
    "    {\n",
    "        std::cout << \" \" << std::setfill('0') << std::setw(2)\n",
    "                  << amatrix[i][j];\n",
    "    }\n",
    "}\n",
    "std::cout << std::endl;\n",
    "```"
   ]
  },
  {
   "cell_type": "code",
   "execution_count": null,
   "metadata": {},
   "outputs": [],
   "source": [
    "!make pod_matrix_auto; ./pod_matrix_auto"
   ]
  },
  {
   "cell_type": "markdown",
   "metadata": {},
   "source": [
    "The C++ multi-dimensional array index is convenient, but it doesn't work when the array size isn't known in the compile time.\n",
    "\n",
    "```cpp\n",
    "void work(double * buffer, size_t width)\n",
    "{\n",
    "    // This won't work as width isn't known in compile time.\n",
    "    double (*matrix)[width] = reinterpret_cast<double (*)[width]>(buffer);\n",
    "\n",
    "    for (size_t i=0; i<width; ++i) // the i-th row\n",
    "    {\n",
    "        for (size_t j=0; j<width; ++j) // the j-th column\n",
    "        {\n",
    "            matrix[i][j] = i*10 + j;\n",
    "        }\n",
    "    }\n",
    "\n",
    "    std::cout << \"matrix:\";\n",
    "    for (size_t i=0; i<width; ++i)\n",
    "    {\n",
    "        std::cout << std::endl << \" \";\n",
    "        for (size_t j=0; j<width; ++j)\n",
    "        {\n",
    "            std::cout << \" \" << std::setfill('0') << std::setw(2)\n",
    "                      << matrix[i][j];\n",
    "        }\n",
    "    }\n",
    "    std::cout << std::endl;\n",
    "}\n",
    "```"
   ]
  },
  {
   "cell_type": "code",
   "execution_count": null,
   "metadata": {},
   "outputs": [],
   "source": [
    "!make pod_bad_matrix"
   ]
  },
  {
   "cell_type": "markdown",
   "metadata": {},
   "source": [
    "## Row-major 2D variable-size array\n",
    "\n",
    "The elements of a row-major 2D array are stored so that the fastest changing index is the trailing index of the 2D array:\n",
    "\n",
    "\\begin{align*}\n",
    "\\mathrm{buffer} = [a_{00}, a_{01}, a_{02}, a_{03}, a_{04}, a_{10}, a_{11}, a_{12}, \\ldots, a_{43}, a_{44}]\n",
    "\\end{align*}\n",
    "\n",
    "When accessing the elements, all we need to do is to remember how long we need to *stride* per row (leading) index.\n",
    "\n",
    "```cpp\n",
    "constexpr size_t width = 5;\n",
    "\n",
    "double * buffer = new double[width*width];\n",
    "double (*matrix)[width] = reinterpret_cast<double (*)[width]>(buffer);\n",
    "std::cout << \"buffer address: \" << buffer << std::endl\n",
    "          << \"matrix address: \" << matrix << std::endl;\n",
    "\n",
    "// Populate a buffer (row-major 2D array).\n",
    "for (size_t i=0; i<width; ++i) // the i-th row\n",
    "{\n",
    "    for (size_t j=0; j<width; ++j) // the j-th column\n",
    "    {\n",
    "        buffer[i*width + j] = i*10 + j;\n",
    "    }\n",
    "}\n",
    "\n",
    "std::cout << \"matrix (row-major) elements as 2D array:\";\n",
    "for (size_t i=0; i<width; ++i)\n",
    "{\n",
    "    std::cout << std::endl << \" \";\n",
    "    for (size_t j=0; j<width; ++j)\n",
    "    {\n",
    "        std::cout << \" \" << std::setfill('0') << std::setw(2)\n",
    "                  << matrix[i][j];\n",
    "    }\n",
    "}\n",
    "std::cout << std::endl;\n",
    "```"
   ]
  },
  {
   "cell_type": "code",
   "execution_count": null,
   "metadata": {},
   "outputs": [],
   "source": [
    "!make pod_matrix_rowmajor; ./pod_matrix_rowmajor"
   ]
  },
  {
   "cell_type": "markdown",
   "metadata": {},
   "source": [
    "## Column-major 2D variable-size array\n",
    "\n",
    "The elements of a column-major 2D array are stored so that the fastest changing index is the leading index of the 2D array:\n",
    "\n",
    "\\begin{align*}\n",
    "\\mathrm{buffer} = [a_{00}, a_{10}, a_{20}, a_{30}, a_{40}, a_{01}, a_{11}, a_{21}, \\ldots, a_{34}, a_{44}]\n",
    "\\end{align*}\n",
    "\n",
    "Similar to a row-major array, we need to know the stride.  But this time it's for the column (trailing) index.\n",
    "\n",
    "```cpp\n",
    "constexpr size_t width = 5;\n",
    "\n",
    "double * buffer = new double[width*width];\n",
    "double (*matrix)[width] = reinterpret_cast<double (*)[width]>(buffer);\n",
    "std::cout << \"buffer address: \" << buffer << std::endl\n",
    "          << \"matrix address: \" << matrix << std::endl;\n",
    "\n",
    "// Populate a buffer (column-major 2D array).\n",
    "for (size_t i=0; i<width; ++i) // the i-th row\n",
    "{\n",
    "    for (size_t j=0; j<width; ++j) // the j-th column\n",
    "    {\n",
    "        buffer[j*width + i] = i*10 + j;\n",
    "    }\n",
    "}\n",
    "\n",
    "std::cout << \"matrix (column-major) elements as 2D array:\";\n",
    "for (size_t i=0; i<width; ++i)\n",
    "{\n",
    "    std::cout << std::endl << \" \";\n",
    "    for (size_t j=0; j<width; ++j)\n",
    "    {\n",
    "        std::cout << \" \" << std::setfill('0') << std::setw(2)\n",
    "                  << matrix[j][i];\n",
    "    }\n",
    "}\n",
    "std::cout << std::endl;\n",
    "```"
   ]
  },
  {
   "cell_type": "code",
   "execution_count": null,
   "metadata": {},
   "outputs": [],
   "source": [
    "!make pod_matrix_colmajor; ./pod_matrix_colmajor"
   ]
  },
  {
   "cell_type": "markdown",
   "metadata": {},
   "source": [
    "## C++ class to treat the memory buffer like matrix\n",
    "\n",
    "Keeping track of the stride can be error-prone.  Even if we stick to one majoring order (usually it's row-majoring), it's easy to lose track of it when the number of row and column is different, or it's higher-dimensional.\n",
    "\n",
    "A common practice in C++ is to use a class to keep track of the stride.  Properly defined accessors significantly simplifies it.\n",
    "\n",
    "```cpp\n",
    "class Matrix {\n",
    "\n",
    "public:\n",
    "\n",
    "    Matrix(size_t nrow, size_t ncol)\n",
    "      : m_nrow(nrow), m_ncol(ncol)\n",
    "    {\n",
    "        size_t nelement = nrow * ncol;\n",
    "        m_buffer = new double[nelement];\n",
    "    }\n",
    "\n",
    "    // TODO: copy and move constructors and assignment operators.\n",
    "\n",
    "    ~Matrix()\n",
    "    {\n",
    "        delete[] m_buffer;\n",
    "    }\n",
    "\n",
    "    // No bound check.\n",
    "    double   operator() (size_t row, size_t col) const { return m_buffer[row*m_ncol + col]; }\n",
    "    double & operator() (size_t row, size_t col)       { return m_buffer[row*m_ncol + col]; }\n",
    "\n",
    "    size_t nrow() const { return m_nrow; }\n",
    "    size_t ncol() const { return m_ncol; }\n",
    "\n",
    "private:\n",
    "\n",
    "    size_t m_nrow;\n",
    "    size_t m_ncol;\n",
    "    double * m_buffer;\n",
    "\n",
    "};\n",
    "```"
   ]
  },
  {
   "cell_type": "code",
   "execution_count": null,
   "metadata": {},
   "outputs": [],
   "source": [
    "!make matrix_class; ./matrix_class"
   ]
  },
  {
   "cell_type": "markdown",
   "metadata": {},
   "source": [
    "## Matrix-vector operation\n",
    "\n",
    "Operations of a matrix and a vector is much more interesting than vector operations."
   ]
  },
  {
   "cell_type": "markdown",
   "metadata": {},
   "source": [
    "# Matrix-matrix operation"
   ]
  },
  {
   "cell_type": "markdown",
   "metadata": {},
   "source": [
    "# Linear algebra"
   ]
  },
  {
   "cell_type": "markdown",
   "metadata": {},
   "source": [
    "## Least square"
   ]
  },
  {
   "cell_type": "markdown",
   "metadata": {},
   "source": [
    "## Eigen problems and SVD"
   ]
  },
  {
   "cell_type": "markdown",
   "metadata": {},
   "source": [
    "# References\n",
    "\n",
    "* BLAS: http://www.netlib.org/blas/"
   ]
  },
  {
   "cell_type": "markdown",
   "metadata": {},
   "source": [
    "# Exercises\n",
    "\n",
    "1. Extend the class `Matrix` to be an arbitrary dimensional array."
   ]
  }
 ],
 "metadata": {
  "kernelspec": {
   "display_name": "Python 3",
   "language": "python",
   "name": "python3"
  },
  "language_info": {
   "codemirror_mode": {
    "name": "ipython",
    "version": 3
   },
   "file_extension": ".py",
   "mimetype": "text/x-python",
   "name": "python",
   "nbconvert_exporter": "python",
   "pygments_lexer": "ipython3",
   "version": "3.7.3+"
  }
 },
 "nbformat": 4,
 "nbformat_minor": 2
}
