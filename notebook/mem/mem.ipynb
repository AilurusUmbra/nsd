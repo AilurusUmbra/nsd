{
 "cells": [
  {
   "cell_type": "markdown",
   "metadata": {
    "slideshow": {
     "slide_type": "skip"
    }
   },
   "source": [
    "# Memory management\n",
    "\n",
    "Numerical software tends to use as much memory as a workstation has.  The memory has two major uses: (i) to hold the required huge amount of data, and (ii) to gain speed.\n",
    "\n",
    "1. Linux memory model: stack, heap, and memory map\n",
    "2. C memory management API\n",
    "3. C++ memory management API\n",
    "4. STL allocator API\n",
    "3. Object counter"
   ]
  },
  {
   "cell_type": "markdown",
   "metadata": {},
   "source": [
    "Modern computers use a hierarchical memory system.  Registers locate in the processor chip and are the fastest and scarest memory.  There is no additional cycle needed for the CPU to access the bits in registers.\n",
    "\n",
    "Farther from the CPU, we have cache memory in multiple levels.  It takes 1 to 30 cycles to get data from cache memory to CPU, depending on the level.  Then we reach the main memory.  Data in main memory takes 50-200 cycles of latency before getting to CPU."
   ]
  },
  {
   "cell_type": "markdown",
   "metadata": {},
   "source": [
    "# Register, stack, heap, and memory map\n",
    "\n",
    "All data in a computer program takes space in memory.  Depending on the usage, we will allocate them in different places.  The fundamental data types, the numbers to be crunched, will eventually go into the register file.  Temporary small objects are allocated on the stack.  Data to be shared among functions go to dynamically allocated memory.  Depending on the size, the memory manager may choose to use heap or memory map (mmap).\n",
    "\n",
    "When talking about memory management, we usually mean dynamic memory management.  Large chunks of static memory in an executable image shouldn't be used."
   ]
  },
  {
   "cell_type": "markdown",
   "metadata": {},
   "source": [
    "# C dynamic memory\n",
    "\n",
    "The C programming language defines 5 API for manipulate dynamic memory.\n",
    "\n",
    "* `void * malloc(size_t size);`\n",
    "* `void * calloc(size_t num, size_t size);`\n",
    "* `void * realloc(void * ptr, size_t new_size);`\n",
    "* `void free(void* ptr);`\n",
    "* `void * aligned_alloc(size_t alignment, size_t size);`\n",
    "\n",
    "For conveniece, we call a library or part of a library that implements the dynamic memory management APIs a memory manager.  Although we should focus on C++ code, it is crucial to know how a C memory manager works, because\n",
    "\n",
    "1. C++ memory managers are implemented by C.\n",
    "2. C memory management API can do what C++ cannot.\n",
    "3. C memory managers sometimes are faster than C++."
   ]
  },
  {
   "cell_type": "code",
   "execution_count": null,
   "metadata": {},
   "outputs": [],
   "source": [
    "!make cmem; echo \"--- built; run:\"; ./cmem"
   ]
  },
  {
   "cell_type": "markdown",
   "metadata": {},
   "source": [
    "# C++ dynamic memory: new and delete\n",
    "\n",
    "Objects in C++ have 4 storage durations:\n",
    "\n",
    "1. static\n",
    "2. thread\n",
    "3. automatic\n",
    "4. dynamic\n",
    "\n",
    "The first 3 of them, static, thread, and automatic storage durations, are distinguished by the declarations.  The last one, dynamic storage duration, is managed by `operator new/delete` and our focus in memory management.\n",
    "\n",
    "There are 3 frequent use cases of the `new/delete` expression:\n",
    "\n",
    "1. Single object allocation.\n",
    "2. Array allocation.\n",
    "3. Placement new.\n",
    "\n",
    "Precisely speaking, only the first two cases are fully related to memory management.  The third use case doesn't directly allocate or deallocate memory, but allows to use the `new/delete` expression for constructing objects on an already-allocated block of memory."
   ]
  },
  {
   "cell_type": "code",
   "execution_count": null,
   "metadata": {},
   "outputs": [],
   "source": [
    "!make cppmem; echo \"--- built; run:\"; ./cppmem"
   ]
  },
  {
   "cell_type": "markdown",
   "metadata": {},
   "source": [
    "# STL allocator\n",
    "\n",
    "STL uses another set of template API for allocating the memory for most of its container.  By default, the STL containers use ``std::allocator`` class template for memory allocation.  We are allowed to provide custom allocators to the containers."
   ]
  },
  {
   "cell_type": "code",
   "execution_count": null,
   "metadata": {},
   "outputs": [],
   "source": [
    "!make alloc; echo \"--- built; run:\"; ./alloc"
   ]
  },
  {
   "cell_type": "markdown",
   "metadata": {},
   "source": [
    "# Instance counter\n",
    "\n",
    "In some cases, we want to know how many intances are created of certain classes.  One quick way is to add an instance counter for the specific class.  We may immediately know the number at any given time point of the execution."
   ]
  },
  {
   "cell_type": "code",
   "execution_count": null,
   "metadata": {},
   "outputs": [],
   "source": [
    "!make icount; echo \"--- built; run:\"; ./icount"
   ]
  },
  {
   "cell_type": "markdown",
   "metadata": {},
   "source": [
    "# Exercises\n",
    "\n",
    "1. Calling `delete` on the address returned by `new[]` may cause problems.  Write a program and analyze what the problems may be.\n",
    "2. When using a single thread, what is the runtime overhead of the instance counting technique?  Write a program and analyze."
   ]
  }
 ],
 "metadata": {
  "kernelspec": {
   "display_name": "Python 3",
   "language": "python",
   "name": "python3"
  },
  "language_info": {
   "codemirror_mode": {
    "name": "ipython",
    "version": 3
   },
   "file_extension": ".py",
   "mimetype": "text/x-python",
   "name": "python",
   "nbconvert_exporter": "python",
   "pygments_lexer": "ipython3",
   "version": "3.7.3+"
  }
 },
 "nbformat": 4,
 "nbformat_minor": 2
}
