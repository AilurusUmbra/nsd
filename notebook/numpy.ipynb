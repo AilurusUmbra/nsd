{
 "cells": [
  {
   "cell_type": "code",
   "execution_count": null,
   "metadata": {},
   "outputs": [],
   "source": [
    "# This cell sets up the notebook.\n",
    "\n",
    "%matplotlib inline\n",
    "\n",
    "# Import necessary modules.\n",
    "\n",
    "import traceback\n",
    "import sys\n",
    "import os\n",
    "\n",
    "import numpy as np\n",
    "import matplotlib.pyplot as plt\n",
    "from IPython.core.magic import register_cell_magic\n",
    "from IPython.display import display, Audio"
   ]
  },
  {
   "cell_type": "markdown",
   "metadata": {},
   "source": [
    "# Python and numpy\n",
    "\n",
    "Numerical software is always developed as a platform.  It works like a library providing data structures and helpers to solve problems.  The users will use a scripting engine it provides to build applications.  Python is a popular choice for the scripting engine."
   ]
  },
  {
   "cell_type": "markdown",
   "metadata": {},
   "source": [
    "# Organize Python modules"
   ]
  },
  {
   "cell_type": "code",
   "execution_count": null,
   "metadata": {},
   "outputs": [],
   "source": [
    "sys.path.insert(0, '../sample/numpy')"
   ]
  },
  {
   "cell_type": "code",
   "execution_count": null,
   "metadata": {},
   "outputs": [],
   "source": [
    "import step0\n",
    "dir(step0)"
   ]
  },
  {
   "cell_type": "markdown",
   "metadata": {},
   "source": [
    "# Numpy for array-centric code"
   ]
  },
  {
   "cell_type": "markdown",
   "metadata": {},
   "source": [
    "So far we only saw one-dimensional arrays, but Numpy wouldn't be so useful if it doesn't do a great job on multi-dimensional arrays.  Multi-dimensional arrays are much more useful than one-dimensional because it's the building-block of matrices and linear algebra.\n",
    "\n",
    "First let's see how to creating multi-dimensional arrays from one-dimensionals by stacking:"
   ]
  },
  {
   "cell_type": "code",
   "execution_count": null,
   "metadata": {},
   "outputs": [],
   "source": [
    "ranged_array = np.arange(10)\n",
    "print(\"A 1-D array:\", ranged_array)\n",
    "\n",
    "hstack_array = np.hstack([ranged_array, ranged_array])\n",
    "print(\"Horizontally stacked array:\", hstack_array)\n",
    "\n",
    "vstack_array = np.vstack([ranged_array, ranged_array])\n",
    "print(\"Vertically stacked array:\", vstack_array)"
   ]
  },
  {
   "cell_type": "markdown",
   "metadata": {},
   "source": [
    "When the arrays are in multiple dimension, you can specify the axis of operation.  Let's see a simple matrix:\n",
    "\n",
    "\\begin{align*}\n",
    "A = \\left(\\begin{array}{ccc}\n",
    "a_{00} & a_{01} & a_{02} \\\\\n",
    "a_{10} & a_{11} & a_{12}\n",
    "\\end{array}\\right)\n",
    "= \\left(\\begin{array}{ccc}\n",
    "0 & 1 & 2 \\\\\n",
    "3 & 4 & 5\n",
    "\\end{array}\\right)\n",
    "\\end{align*}\n",
    "\n",
    "Since we are talking about Numpy, the indices start from 0 (normal math uses 1-based indexing).  Let's say we sum the elements along the 0th-axis, we'll get:\n",
    "\n",
    "\\begin{align*}\n",
    "A_{\\mathrm{along } 0} = \\left(\\begin{array}{ccc}\n",
    "a_{00} + a_{10} & a_{01} + a_{11} & a_{02} + a_{12}\n",
    "\\end{array}\\right)\n",
    "= \\left(\\begin{array}{ccc}\n",
    "3 & 5 & 7\n",
    "\\end{array}\\right)\n",
    "\\end{align*}\n",
    "\n",
    "Do it along the 1st-axis:\n",
    "\n",
    "\\begin{align*}\n",
    "A_{\\mathrm{along } 1} = \\left(\\begin{array}{cc}\n",
    "a_{00} + a_{01} + a_{02} & a_{10} + a_{11} + a_{12}\n",
    "\\end{array}\\right)\n",
    "= \\left(\\begin{array}{ccc}\n",
    "3 & 12\n",
    "\\end{array}\\right)\n",
    "\\end{align*}\n",
    "\n",
    "Now let's see the code:"
   ]
  },
  {
   "cell_type": "code",
   "execution_count": null,
   "metadata": {},
   "outputs": [],
   "source": [
    "reshaped_array = np.arange(6).reshape((2,3))\n",
    "print(\"2-D array reshaped from 1-D array:\", reshaped_array)"
   ]
  },
  {
   "cell_type": "code",
   "execution_count": null,
   "metadata": {},
   "outputs": [],
   "source": [
    "print(\"Summation along 0th axis:\", reshaped_array.sum(axis=0))"
   ]
  },
  {
   "cell_type": "code",
   "execution_count": null,
   "metadata": {},
   "outputs": [],
   "source": [
    "print(\"Summation along 1st axis:\", reshaped_array.sum(axis=1))"
   ]
  },
  {
   "cell_type": "markdown",
   "metadata": {},
   "source": [
    "# Numpy operations"
   ]
  },
  {
   "cell_type": "markdown",
   "metadata": {},
   "source": [
    "## Construction"
   ]
  },
  {
   "cell_type": "markdown",
   "metadata": {},
   "source": [
    "Arrays are the best tools to manage homogeneous data.  The [numpy](http://www.numpy.org/) library provides everything we need for arrays in Python.  To create an array, we may use a list as the initial data:"
   ]
  },
  {
   "cell_type": "code",
   "execution_count": null,
   "metadata": {},
   "outputs": [],
   "source": [
    "# Import the numpy library. It's a world-wide convention to alias it to \"np\".\n",
    "import numpy as np\n",
    "\n",
    "# Make a list of integers.\n",
    "lst = [1, 1, 2, 3, 5]\n",
    "print('A list:', lst)\n",
    "\n",
    "# Make an array from the sequence.\n",
    "array = np.array(lst)\n",
    "print('An array:', np.array(array))"
   ]
  },
  {
   "cell_type": "markdown",
   "metadata": {},
   "source": [
    "The `sequence` and the `array` _look differently_.  But their differences are more than skin deep."
   ]
  },
  {
   "cell_type": "code",
   "execution_count": null,
   "metadata": {},
   "outputs": [],
   "source": [
    "print(type(lst))\n",
    "print(type(array))\n",
    "print(array.dtype)"
   ]
  },
  {
   "cell_type": "markdown",
   "metadata": {},
   "source": [
    "Python knows that the sequence and the array are of different types.  Further, the array has a field `dtype` that indicates what kind of data it holds."
   ]
  },
  {
   "cell_type": "code",
   "execution_count": null,
   "metadata": {},
   "outputs": [],
   "source": [
    "real_sequence = [1.0, 1.0, 2.0, 3.0, 5.0]\n",
    "print(real_sequence, type(real_sequence))\n",
    "real_array = np.array(real_sequence)\n",
    "print(real_array, type(real_array), real_array.dtype)"
   ]
  },
  {
   "cell_type": "markdown",
   "metadata": {},
   "source": [
    "A Python list doesn't know the type it contains, but an array does.  This will come in handy for many applications that process large amount of data."
   ]
  },
  {
   "cell_type": "markdown",
   "metadata": {},
   "source": [
    "## Creating Arrays"
   ]
  },
  {
   "cell_type": "markdown",
   "metadata": {},
   "source": [
    "The most straight-forward way to creating arrays is to use the following helpers:"
   ]
  },
  {
   "cell_type": "code",
   "execution_count": null,
   "metadata": {},
   "outputs": [],
   "source": [
    "empty_array = np.empty(10)\n",
    "print(\"It will contain garbage, but it doesn't waste time to initialize:\", empty_array)\n",
    "\n",
    "zeroed_array = np.zeros(10)\n",
    "print(\"The contents are cleared with zeros:\", zeroed_array)\n",
    "\n",
    "unity_array = np.ones(10)\n",
    "print(\"Instead of zeros, fill it with ones:\", unity_array)\n",
    "\n",
    "print(\"All of their data types are float64 (double-precision floating-point):\",\n",
    "      empty_array.dtype, zeroed_array.dtype, unity_array.dtype)"
   ]
  },
  {
   "cell_type": "markdown",
   "metadata": {},
   "source": [
    "And more:"
   ]
  },
  {
   "cell_type": "code",
   "execution_count": null,
   "metadata": {},
   "outputs": [],
   "source": [
    "filled_array = np.full(10, 7)\n",
    "print(\"Build an array populated with an arbitrary value:\", filled_array)\n",
    "\n",
    "filled_real_array = np.full(10, 7.0)\n",
    "print(\"Build an array populated with an arbitrary real value:\", filled_real_array)\n",
    "\n",
    "empty_array = np.empty(10)\n",
    "empty_array.fill(7)\n",
    "print(\"It's the same as creating an empty array and fill the value:\", empty_array)\n",
    "\n",
    "ranged_array = np.arange(10)\n",
    "print(\"Build an array with range:\", ranged_array)\n",
    "\n",
    "ranged_real_array = np.arange(10.0)\n",
    "print(\"Build with real range:\", ranged_real_array)"
   ]
  },
  {
   "cell_type": "markdown",
   "metadata": {},
   "source": [
    "Some special helpers focus on the content value of the array.  They will save you sometime writing the correct code to determine the boundary values."
   ]
  },
  {
   "cell_type": "code",
   "execution_count": null,
   "metadata": {},
   "outputs": [],
   "source": [
    "linear_array = np.linspace(0, 2, num=10)\n",
    "print(\"Create an equally-spaced array with 10 elements:\", linear_array)"
   ]
  },
  {
   "cell_type": "markdown",
   "metadata": {},
   "source": [
    "## Selection"
   ]
  },
  {
   "cell_type": "markdown",
   "metadata": {},
   "source": [
    "In Numpy, the Boolean arrays are often used to filter wanted or unwanted elements in another array."
   ]
  },
  {
   "cell_type": "code",
   "execution_count": null,
   "metadata": {},
   "outputs": [],
   "source": [
    "less_than_5 = ranged_array < 5\n",
    "print(\"The mask for less than 5:\", less_than_5)\n",
    "print(\"The values that are less than 5\", ranged_array[less_than_5])\n",
    "\n",
    "all_on_mask = np.ones(10, dtype='bool')\n",
    "print(\"All on mask:\", all_on_mask)\n",
    "\n",
    "all_off_mask = np.zeros(10, dtype='bool')\n",
    "print(\"All off mask:\", all_off_mask)"
   ]
  },
  {
   "cell_type": "markdown",
   "metadata": {},
   "source": [
    "Slicing is a different way to view an array."
   ]
  },
  {
   "cell_type": "code",
   "execution_count": null,
   "metadata": {},
   "outputs": [],
   "source": [
    "array = np.arange(10)\n",
    "print(\"This is the original array:\", array)\n",
    "\n",
    "sub_array = array[:5]\n",
    "print(\"This is the sub-array:\", sub_array)\n",
    "\n",
    "sub_array[:] = np.arange(4, -1, -1)\n",
    "print(\"The sub-array is changed:\", sub_array)\n",
    "\n",
    "print(\"And the original array is changed too (!):\", array)"
   ]
  },
  {
   "cell_type": "code",
   "execution_count": null,
   "metadata": {},
   "outputs": [],
   "source": [
    "array = np.arange(10.0)\n",
    "print(\"Recreate the original array to show how to avoid this:\", array)\n",
    "\n",
    "# Make a copy from the slice.\n",
    "sub_array = array[:5].copy()\n",
    "sub_array[:] = np.arange(4, -1, -1)\n",
    "print(\"The sub-array is changed, again:\", sub_array)\n",
    "print(\"But original array remains the same:\", array)"
   ]
  },
  {
   "cell_type": "markdown",
   "metadata": {},
   "source": [
    "## Aggregation"
   ]
  },
  {
   "cell_type": "markdown",
   "metadata": {},
   "source": [
    "## Broadcasting"
   ]
  },
  {
   "cell_type": "markdown",
   "metadata": {},
   "source": [
    "# Singular value problems"
   ]
  },
  {
   "cell_type": "markdown",
   "metadata": {},
   "source": [
    "# The Laplace equations"
   ]
  }
 ],
 "metadata": {
  "kernelspec": {
   "display_name": "Python 3",
   "language": "python",
   "name": "python3"
  },
  "language_info": {
   "codemirror_mode": {
    "name": "ipython",
    "version": 3
   },
   "file_extension": ".py",
   "mimetype": "text/x-python",
   "name": "python",
   "nbconvert_exporter": "python",
   "pygments_lexer": "ipython3",
   "version": "3.6.6+"
  }
 },
 "nbformat": 4,
 "nbformat_minor": 2
}
